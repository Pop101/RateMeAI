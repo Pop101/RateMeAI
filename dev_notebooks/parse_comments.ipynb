{
 "cells": [
  {
   "cell_type": "code",
   "execution_count": 1,
   "metadata": {},
   "outputs": [],
   "source": [
    "import os\n",
    "import zstandard\n",
    "import polars as pl\n",
    "import requests\n",
    "import json\n",
    "import tempfile\n",
    "import re"
   ]
  },
  {
   "cell_type": "code",
   "execution_count": 2,
   "metadata": {},
   "outputs": [
    {
     "name": "stdout",
     "output_type": "stream",
     "text": [
      "Downloading and processing data...\n",
      "['author', 'author_cakeday', 'author_flair_css_class', 'author_flair_text', 'body', 'can_gild', 'collapsed', 'collapsed_reason', 'controversiality', 'created_utc', 'distinguished', 'edited', 'gilded', 'id', 'is_submitter', 'link_id', 'parent_id', 'retrieved_on', 'score', 'stickied', 'subreddit', 'subreddit_id']\n"
     ]
    }
   ],
   "source": [
    "def download_process_zst(url:str) -> pl.DataFrame:    \n",
    "    # Create a temporary directory\n",
    "    with tempfile.TemporaryDirectory() as temp_dir:\n",
    "        # Download\n",
    "        response = requests.get(url)\n",
    "        zst_path = os.path.join(temp_dir, \"data.zst\")\n",
    "        with open(zst_path, 'wb') as f:\n",
    "            f.write(response.content)\n",
    "\n",
    "        # Decompress\n",
    "        json_path = os.path.join(temp_dir, \"data.jsonl\")\n",
    "        with open(zst_path, 'rb') as compressed_file:\n",
    "            with open(json_path, 'wb') as decompressed_file:\n",
    "                dctx = zstandard.ZstdDecompressor()\n",
    "                dctx.copy_stream(compressed_file, decompressed_file)\n",
    "\n",
    "        # File is in JSONL format\n",
    "        df = pl.read_ndjson(\n",
    "            json_path,\n",
    "            infer_schema_length=10000,\n",
    "            ignore_errors=True\n",
    "        )\n",
    "        \n",
    "    return df    \n",
    "\n",
    "print(\"Downloading and processing data...\")\n",
    "df = download_process_zst(\"https://the-eye.eu/redarcs/files/truerateme_comments.zst\")\n",
    "print(df.columns)"
   ]
  },
  {
   "cell_type": "code",
   "execution_count": 3,
   "metadata": {},
   "outputs": [
    {
     "data": {
      "text/html": [
       "<div><style>\n",
       ".dataframe > thead > tr,\n",
       ".dataframe > tbody > tr {\n",
       "  text-align: right;\n",
       "  white-space: pre-wrap;\n",
       "}\n",
       "</style>\n",
       "<small>shape: (949_903, 22)</small><table border=\"1\" class=\"dataframe\"><thead><tr><th>author</th><th>author_cakeday</th><th>author_flair_css_class</th><th>author_flair_text</th><th>body</th><th>can_gild</th><th>collapsed</th><th>collapsed_reason</th><th>controversiality</th><th>created_utc</th><th>distinguished</th><th>edited</th><th>gilded</th><th>id</th><th>is_submitter</th><th>link_id</th><th>parent_id</th><th>retrieved_on</th><th>score</th><th>stickied</th><th>subreddit</th><th>subreddit_id</th></tr><tr><td>str</td><td>bool</td><td>null</td><td>str</td><td>str</td><td>bool</td><td>bool</td><td>str</td><td>i64</td><td>i64</td><td>str</td><td>i64</td><td>i64</td><td>str</td><td>bool</td><td>str</td><td>str</td><td>i64</td><td>i64</td><td>bool</td><td>str</td><td>str</td></tr></thead><tbody><tr><td>&quot;kalkush&quot;</td><td>null</td><td>null</td><td>&quot;moderator&quot;</td><td>&quot;That&#x27;s fine 👌🏽&quot;</td><td>true</td><td>false</td><td>null</td><td>0</td><td>1502931307</td><td>null</td><td>0</td><td>0</td><td>&quot;dlqb6cr&quot;</td><td>false</td><td>&quot;t3_6twkns&quot;</td><td>&quot;t3_6twkns&quot;</td><td>1504127569</td><td>3</td><td>false</td><td>&quot;truerateme&quot;</td><td>&quot;t5_3noa4&quot;</td></tr><tr><td>&quot;RodgerDodger509&quot;</td><td>null</td><td>null</td><td>null</td><td>&quot;I know I was givin you a bit o…</td><td>true</td><td>false</td><td>null</td><td>0</td><td>1502961232</td><td>null</td><td>0</td><td>0</td><td>&quot;dlqsm1o&quot;</td><td>false</td><td>&quot;t3_6twkns&quot;</td><td>&quot;t3_6twkns&quot;</td><td>1504136099</td><td>3</td><td>false</td><td>&quot;truerateme&quot;</td><td>&quot;t5_3noa4&quot;</td></tr><tr><td>&quot;Hereforthekek&quot;</td><td>null</td><td>null</td><td>&quot;moderator&quot;</td><td>&quot;I don&#x27;t remember you giving me…</td><td>true</td><td>false</td><td>null</td><td>0</td><td>1502961408</td><td>null</td><td>0</td><td>0</td><td>&quot;dlqsodo&quot;</td><td>true</td><td>&quot;t3_6twkns&quot;</td><td>&quot;t1_dlqsm1o&quot;</td><td>1504136131</td><td>2</td><td>false</td><td>&quot;truerateme&quot;</td><td>&quot;t5_3noa4&quot;</td></tr><tr><td>&quot;kalkush&quot;</td><td>null</td><td>null</td><td>&quot;moderator&quot;</td><td>&quot;Happy to make /u/RodgerDodger5…</td><td>true</td><td>false</td><td>null</td><td>0</td><td>1502967551</td><td>null</td><td>0</td><td>0</td><td>&quot;dlqv2p8&quot;</td><td>false</td><td>&quot;t3_6twkns&quot;</td><td>&quot;t1_dlqsodo&quot;</td><td>1504137300</td><td>2</td><td>false</td><td>&quot;truerateme&quot;</td><td>&quot;t5_3noa4&quot;</td></tr><tr><td>&quot;throwitawaythekey&quot;</td><td>null</td><td>null</td><td>null</td><td>&quot;[Here&#x27;s another pic.](https://…</td><td>true</td><td>false</td><td>null</td><td>0</td><td>1502970080</td><td>null</td><td>0</td><td>0</td><td>&quot;dlqwa3t&quot;</td><td>true</td><td>&quot;t3_6u9dkw&quot;</td><td>&quot;t3_6u9dkw&quot;</td><td>1504137892</td><td>22</td><td>false</td><td>&quot;truerateme&quot;</td><td>&quot;t5_3noa4&quot;</td></tr><tr><td>&hellip;</td><td>&hellip;</td><td>&hellip;</td><td>&hellip;</td><td>&hellip;</td><td>&hellip;</td><td>&hellip;</td><td>&hellip;</td><td>&hellip;</td><td>&hellip;</td><td>&hellip;</td><td>&hellip;</td><td>&hellip;</td><td>&hellip;</td><td>&hellip;</td><td>&hellip;</td><td>&hellip;</td><td>&hellip;</td><td>&hellip;</td><td>&hellip;</td><td>&hellip;</td><td>&hellip;</td></tr><tr><td>&quot;jerry00193&quot;</td><td>null</td><td>null</td><td>&quot;𝕄𝕠𝕕𝕖𝕣𝕒𝕥𝕠𝕣&quot;</td><td>&quot;Warning for overrating. Rule 1…</td><td>true</td><td>false</td><td>null</td><td>0</td><td>1672530955</td><td>&quot;moderator&quot;</td><td>0</td><td>0</td><td>&quot;j2fx4cp&quot;</td><td>false</td><td>&quot;t3_zziubr&quot;</td><td>&quot;t1_j2efuki&quot;</td><td>1673021674</td><td>3</td><td>false</td><td>&quot;truerateme&quot;</td><td>&quot;t5_3noa4&quot;</td></tr><tr><td>&quot;Bazookajojo69&quot;</td><td>null</td><td>null</td><td>&quot;Newbie&quot;</td><td>&quot;Ikr he may be wasian&quot;</td><td>true</td><td>false</td><td>null</td><td>0</td><td>1672530988</td><td>null</td><td>0</td><td>0</td><td>&quot;j2fx709&quot;</td><td>false</td><td>&quot;t3_1004zim&quot;</td><td>&quot;t1_j2fwljs&quot;</td><td>1673021671</td><td>2</td><td>false</td><td>&quot;truerateme&quot;</td><td>&quot;t5_3noa4&quot;</td></tr><tr><td>&quot;hufflepuffylol&quot;</td><td>null</td><td>null</td><td>&quot;Trusted Rater&quot;</td><td>&quot;Compared to other 18 year olds…</td><td>true</td><td>false</td><td>null</td><td>0</td><td>1672531083</td><td>null</td><td>1672531814</td><td>0</td><td>&quot;j2fxekp&quot;</td><td>false</td><td>&quot;t3_zwo9zq&quot;</td><td>&quot;t1_j2fvime&quot;</td><td>1673021666</td><td>1</td><td>false</td><td>&quot;truerateme&quot;</td><td>&quot;t5_3noa4&quot;</td></tr><tr><td>&quot;Bazookajojo69&quot;</td><td>null</td><td>null</td><td>&quot;Newbie&quot;</td><td>&quot;6 you look like a cool soldier&quot;</td><td>true</td><td>false</td><td>null</td><td>0</td><td>1672531101</td><td>null</td><td>0</td><td>0</td><td>&quot;j2fxg1c&quot;</td><td>false</td><td>&quot;t3_1002urw&quot;</td><td>&quot;t3_1002urw&quot;</td><td>1673021664</td><td>2</td><td>false</td><td>&quot;truerateme&quot;</td><td>&quot;t5_3noa4&quot;</td></tr><tr><td>&quot;Bazookajojo69&quot;</td><td>null</td><td>null</td><td>&quot;Newbie&quot;</td><td>&quot;5.9 but if u got jacked you&#x27;d …</td><td>true</td><td>false</td><td>null</td><td>0</td><td>1672531199</td><td>null</td><td>0</td><td>0</td><td>&quot;j2fxo8p&quot;</td><td>false</td><td>&quot;t3_1006250&quot;</td><td>&quot;t3_1006250&quot;</td><td>1673021658</td><td>1</td><td>false</td><td>&quot;truerateme&quot;</td><td>&quot;t5_3noa4&quot;</td></tr></tbody></table></div>"
      ],
      "text/plain": [
       "shape: (949_903, 22)\n",
       "┌────────────┬────────────┬────────────┬────────────┬───┬───────┬──────────┬───────────┬───────────┐\n",
       "│ author     ┆ author_cak ┆ author_fla ┆ author_fla ┆ … ┆ score ┆ stickied ┆ subreddit ┆ subreddit │\n",
       "│ ---        ┆ eday       ┆ ir_css_cla ┆ ir_text    ┆   ┆ ---   ┆ ---      ┆ ---       ┆ _id       │\n",
       "│ str        ┆ ---        ┆ ss         ┆ ---        ┆   ┆ i64   ┆ bool     ┆ str       ┆ ---       │\n",
       "│            ┆ bool       ┆ ---        ┆ str        ┆   ┆       ┆          ┆           ┆ str       │\n",
       "│            ┆            ┆ null       ┆            ┆   ┆       ┆          ┆           ┆           │\n",
       "╞════════════╪════════════╪════════════╪════════════╪═══╪═══════╪══════════╪═══════════╪═══════════╡\n",
       "│ kalkush    ┆ null       ┆ null       ┆ moderator  ┆ … ┆ 3     ┆ false    ┆ trueratem ┆ t5_3noa4  │\n",
       "│            ┆            ┆            ┆            ┆   ┆       ┆          ┆ e         ┆           │\n",
       "│ RodgerDodg ┆ null       ┆ null       ┆ null       ┆ … ┆ 3     ┆ false    ┆ trueratem ┆ t5_3noa4  │\n",
       "│ er509      ┆            ┆            ┆            ┆   ┆       ┆          ┆ e         ┆           │\n",
       "│ Hereforthe ┆ null       ┆ null       ┆ moderator  ┆ … ┆ 2     ┆ false    ┆ trueratem ┆ t5_3noa4  │\n",
       "│ kek        ┆            ┆            ┆            ┆   ┆       ┆          ┆ e         ┆           │\n",
       "│ kalkush    ┆ null       ┆ null       ┆ moderator  ┆ … ┆ 2     ┆ false    ┆ trueratem ┆ t5_3noa4  │\n",
       "│            ┆            ┆            ┆            ┆   ┆       ┆          ┆ e         ┆           │\n",
       "│ throwitawa ┆ null       ┆ null       ┆ null       ┆ … ┆ 22    ┆ false    ┆ trueratem ┆ t5_3noa4  │\n",
       "│ ythekey    ┆            ┆            ┆            ┆   ┆       ┆          ┆ e         ┆           │\n",
       "│ …          ┆ …          ┆ …          ┆ …          ┆ … ┆ …     ┆ …        ┆ …         ┆ …         │\n",
       "│ jerry00193 ┆ null       ┆ null       ┆ 𝕄𝕠𝕕𝕖𝕣𝕒𝕥𝕠𝕣  ┆ … ┆ 3     ┆ false    ┆ trueratem ┆ t5_3noa4  │\n",
       "│            ┆            ┆            ┆            ┆   ┆       ┆          ┆ e         ┆           │\n",
       "│ Bazookajoj ┆ null       ┆ null       ┆ Newbie     ┆ … ┆ 2     ┆ false    ┆ trueratem ┆ t5_3noa4  │\n",
       "│ o69        ┆            ┆            ┆            ┆   ┆       ┆          ┆ e         ┆           │\n",
       "│ hufflepuff ┆ null       ┆ null       ┆ Trusted    ┆ … ┆ 1     ┆ false    ┆ trueratem ┆ t5_3noa4  │\n",
       "│ ylol       ┆            ┆            ┆ Rater      ┆   ┆       ┆          ┆ e         ┆           │\n",
       "│ Bazookajoj ┆ null       ┆ null       ┆ Newbie     ┆ … ┆ 2     ┆ false    ┆ trueratem ┆ t5_3noa4  │\n",
       "│ o69        ┆            ┆            ┆            ┆   ┆       ┆          ┆ e         ┆           │\n",
       "│ Bazookajoj ┆ null       ┆ null       ┆ Newbie     ┆ … ┆ 1     ┆ false    ┆ trueratem ┆ t5_3noa4  │\n",
       "│ o69        ┆            ┆            ┆            ┆   ┆       ┆          ┆ e         ┆           │\n",
       "└────────────┴────────────┴────────────┴────────────┴───┴───────┴──────────┴───────────┴───────────┘"
      ]
     },
     "execution_count": 3,
     "metadata": {},
     "output_type": "execute_result"
    }
   ],
   "source": [
    "df"
   ]
  },
  {
   "cell_type": "markdown",
   "metadata": {},
   "source": [
    "# Define extraction strategy\n",
    "while many different ways to guess the rating are possible, we choose the mean of all floats ranging from 0 to 10 within the comment text\n",
    "\n",
    "Alternate methods:\n",
    "- first float from 0 to 10 within the comment text\n",
    "- using an LLM or other NLP technique to extract the rating"
   ]
  },
  {
   "cell_type": "code",
   "execution_count": 11,
   "metadata": {},
   "outputs": [],
   "source": [
    "def extract_all_floats(cmt_text:str) -> list:\n",
    "    return [float(match[0]) for match in re.findall(r\"[+-]?(\\d+(\\.\\d+)?)\", cmt_text)]\n",
    "    \n",
    "def first_float_extraction(cmt_text:str) -> float:\n",
    "    return next(filter(lambda x: 0 <= x <= 10, extract_all_floats(cmt_text)), None)\n",
    "\n",
    "def mean_of_floats_extraction(cmt_text:str):\n",
    "    floats = extract_all_floats(cmt_text)\n",
    "    return sum(floats) / len(floats) if floats else None\n",
    "\n",
    "extraction_method = mean_of_floats_extraction"
   ]
  },
  {
   "cell_type": "markdown",
   "metadata": {},
   "source": [
    "# Now, join\n",
    "we choose to join only top-level comments to their respective posts (do this by link id).\n",
    "this is because we want to \n",
    "\n",
    "## weighing techniques\n",
    "we could do a simple average of all comments. However, instead, we choose to weight the average by the total rating of all comments, ignoring those with negative ratings."
   ]
  },
  {
   "cell_type": "code",
   "execution_count": 14,
   "metadata": {},
   "outputs": [],
   "source": [
    "top_level_comments = df.filter(\n",
    "    pl.col(\"parent_id\") == pl.col(\"link_id\")\n",
    ")\n",
    "\n",
    "extract_id = lambda x: re.sub(r\"t\\d_\", \"\", x)\n",
    "\n",
    "top_level_comments = top_level_comments.with_columns(\n",
    "    pl.col(\"link_id\").map_elements(extract_id, pl.String).alias(\"thread\"),             # Extract post ID\n",
    "    pl.col(\"body\").map_elements(extraction_method, pl.Float32).alias(\"rating\")         # Extract rating\n",
    ")\n",
    "\n",
    "rated_comments = top_level_comments.filter(\n",
    "    pl.col(\"rating\").is_not_null() & \n",
    "    (pl.col(\"rating\") >= 0) & \n",
    "    (pl.col(\"rating\") <= 10)\n",
    ")"
   ]
  },
  {
   "cell_type": "code",
   "execution_count": 25,
   "metadata": {},
   "outputs": [
    {
     "data": {
      "text/html": [
       "<div><style>\n",
       ".dataframe > thead > tr,\n",
       ".dataframe > tbody > tr {\n",
       "  text-align: right;\n",
       "  white-space: pre-wrap;\n",
       "}\n",
       "</style>\n",
       "<small>shape: (1_324, 15)</small><table border=\"1\" class=\"dataframe\"><thead><tr><th>id</th><th>author</th><th>created_utc</th><th>subreddit</th><th>title</th><th>selftext</th><th>media_embed</th><th>media</th><th>url</th><th>local_thumbnail_path</th><th>mean_rating</th><th>median_rating</th><th>rating_stdev</th><th>weighted_rating</th><th>rating_count</th></tr><tr><td>str</td><td>str</td><td>i64</td><td>str</td><td>str</td><td>str</td><td>struct[5]</td><td>struct[3]</td><td>str</td><td>str</td><td>f32</td><td>f32</td><td>f32</td><td>f64</td><td>u32</td></tr></thead><tbody><tr><td>&quot;6um2bk&quot;</td><td>&quot;Josh_norman05&quot;</td><td>1503103734</td><td>&quot;truerateme&quot;</td><td>&quot;[21M] Rateme, I&#x27;m 6&#x27;1&quot; and 200…</td><td>&quot;&quot;</td><td>{&quot;&amp;lt;iframe class=&quot;embedly-embed&quot; src=&quot;//cdn.embedly.com/widgets/media.html?src=%2F%2Fimgur.com%2Fa%2Fv2xU7%2Fembed&amp;amp;url=http%3A%2F%2Fimgur.com%2Fa%2Fv2xU7&amp;amp;image=http%3A%2F%2Fi.imgur.com%2FpCLxBv8.jpg%3Ffb&amp;amp;key=522baf40bd3911e08d854040d3dc5c07&amp;amp;type=text%2Fhtml&amp;amp;schema=imgur&quot; width=&quot;550&quot; height=&quot;550&quot; scrolling=&quot;no&quot; frameborder=&quot;0&quot; allowfullscreen&amp;gt;&amp;lt;/iframe&amp;gt;&quot;,550,null,false,550}</td><td>{{null,&quot;Imgur: The most awesome images on the Internet.&quot;,550,&quot;&amp;lt;iframe class=&quot;embedly-embed&quot; src=&quot;//cdn.embedly.com/widgets/media.html?src=%2F%2Fimgur.com%2Fa%2Fv2xU7%2Fembed&amp;amp;url=http%3A%2F%2Fimgur.com%2Fa%2Fv2xU7&amp;amp;image=http%3A%2F%2Fi.imgur.com%2FpCLxBv8.jpg%3Ffb&amp;amp;key=522baf40bd3911e08d854040d3dc5c07&amp;amp;type=text%2Fhtml&amp;amp;schema=imgur&quot; width=&quot;550&quot; height=&quot;550&quot; scrolling=&quot;no&quot; frameborder=&quot;0&quot; allowfullscreen&amp;gt;&amp;lt;/iframe&amp;gt;&quot;,&quot;Imgur&quot;,&quot;http://imgur.com&quot;,315,&quot;http://i.imgur.com/pCLxBv8.jpg?fb&quot;,600,&quot;Imgur: The most awesome images on the Internet&quot;,&quot;rich&quot;,null,&quot;1.0&quot;,550,null,null},&quot;imgur.com&quot;,null}</td><td>&quot;http://imgur.com/a/v2xU7&quot;</td><td>&quot;thumbnails/6um2bk.jpg&quot;</td><td>6.777778</td><td>7.0</td><td>1.141849</td><td>6.838235</td><td>9</td></tr><tr><td>&quot;6umpik&quot;</td><td>&quot;PettingXu&quot;</td><td>1503111646</td><td>&quot;truerateme&quot;</td><td>&quot;M23 tear me a new one guys&quot;</td><td>&quot;&quot;</td><td>{&quot;&amp;lt;iframe class=&quot;embedly-embed&quot; src=&quot;//cdn.embedly.com/widgets/media.html?src=%2F%2Fimgur.com%2Fa%2F2loQ6%2Fembed&amp;amp;url=https%3A%2F%2Fimgur.com%2Fa%2F2loQ6&amp;amp;image=http%3A%2F%2Fi.imgur.com%2F7HP3ftQ.jpg%3Ffb&amp;amp;key=522baf40bd3911e08d854040d3dc5c07&amp;amp;type=text%2Fhtml&amp;amp;schema=imgur&quot; width=&quot;550&quot; height=&quot;550&quot; scrolling=&quot;no&quot; frameborder=&quot;0&quot; allowfullscreen&amp;gt;&amp;lt;/iframe&amp;gt;&quot;,550,null,false,550}</td><td>{{null,&quot;Imgur: The most awesome images on the Internet.&quot;,550,&quot;&amp;lt;iframe class=&quot;embedly-embed&quot; src=&quot;//cdn.embedly.com/widgets/media.html?src=%2F%2Fimgur.com%2Fa%2F2loQ6%2Fembed&amp;amp;url=https%3A%2F%2Fimgur.com%2Fa%2F2loQ6&amp;amp;image=http%3A%2F%2Fi.imgur.com%2F7HP3ftQ.jpg%3Ffb&amp;amp;key=522baf40bd3911e08d854040d3dc5c07&amp;amp;type=text%2Fhtml&amp;amp;schema=imgur&quot; width=&quot;550&quot; height=&quot;550&quot; scrolling=&quot;no&quot; frameborder=&quot;0&quot; allowfullscreen&amp;gt;&amp;lt;/iframe&amp;gt;&quot;,&quot;Imgur&quot;,&quot;http://imgur.com&quot;,315,&quot;http://i.imgur.com/7HP3ftQ.jpg?fb&quot;,600,&quot;Reddit Rateme&quot;,&quot;rich&quot;,null,&quot;1.0&quot;,550,null,null},&quot;m.imgur.com&quot;,null}</td><td>&quot;https://m.imgur.com/a/2loQ6&quot;</td><td>&quot;thumbnails/6umpik.jpg&quot;</td><td>7.104167</td><td>7.125</td><td>0.532197</td><td>7.235632</td><td>8</td></tr><tr><td>&quot;6un283&quot;</td><td>&quot;Mr-Rushifa&quot;</td><td>1503116342</td><td>&quot;truerateme&quot;</td><td>&quot;[22M] 6&#x27;6&quot; Was told to post he…</td><td>&quot;&quot;</td><td>{&quot;&amp;lt;iframe class=&quot;embedly-embed&quot; src=&quot;//cdn.embedly.com/widgets/media.html?src=%2F%2Fimgur.com%2Fa%2FD0rJP%2Fembed&amp;amp;url=https%3A%2F%2Fimgur.com%2Fa%2FD0rJP&amp;amp;image=http%3A%2F%2Fi.imgur.com%2FHkIQCm5.jpg%3Ffb&amp;amp;key=2aa3c4d5f3de4f5b9120b660ad850dc9&amp;amp;type=text%2Fhtml&amp;amp;schema=imgur&quot; width=&quot;550&quot; height=&quot;550&quot; scrolling=&quot;no&quot; frameborder=&quot;0&quot; allowfullscreen&amp;gt;&amp;lt;/iframe&amp;gt;&quot;,550,null,false,550}</td><td>{{null,&quot;Imgur: The most awesome images on the Internet.&quot;,550,&quot;&amp;lt;iframe class=&quot;embedly-embed&quot; src=&quot;//cdn.embedly.com/widgets/media.html?src=%2F%2Fimgur.com%2Fa%2FD0rJP%2Fembed&amp;amp;url=https%3A%2F%2Fimgur.com%2Fa%2FD0rJP&amp;amp;image=http%3A%2F%2Fi.imgur.com%2FHkIQCm5.jpg%3Ffb&amp;amp;key=2aa3c4d5f3de4f5b9120b660ad850dc9&amp;amp;type=text%2Fhtml&amp;amp;schema=imgur&quot; width=&quot;550&quot; height=&quot;550&quot; scrolling=&quot;no&quot; frameborder=&quot;0&quot; allowfullscreen&amp;gt;&amp;lt;/iframe&amp;gt;&quot;,&quot;Imgur&quot;,&quot;http://imgur.com&quot;,315,&quot;http://i.imgur.com/HkIQCm5.jpg?fb&quot;,600,&quot;Gallery&quot;,&quot;rich&quot;,null,&quot;1.0&quot;,550,null,null},&quot;imgur.com&quot;,null}</td><td>&quot;https://imgur.com/a/D0rJP&quot;</td><td>&quot;thumbnails/6un283.jpg&quot;</td><td>8.814661</td><td>9.0</td><td>0.68085</td><td>8.543662</td><td>22</td></tr><tr><td>&quot;6un2v8&quot;</td><td>&quot;mindmonkey00&quot;</td><td>1503116572</td><td>&quot;truerateme&quot;</td><td>&quot;[M 23] Rate my ginger ass and …</td><td>&quot;&quot;</td><td>{&quot;&amp;lt;iframe class=&quot;embedly-embed&quot; src=&quot;//cdn.embedly.com/widgets/media.html?src=%2F%2Fimgur.com%2Fa%2FRa0M6%2Fembed&amp;amp;url=https%3A%2F%2Fimgur.com%2Fa%2FRa0M6&amp;amp;image=http%3A%2F%2Fi.imgur.com%2FESsgdIW.jpg%3Ffb&amp;amp;key=522baf40bd3911e08d854040d3dc5c07&amp;amp;type=text%2Fhtml&amp;amp;schema=imgur&quot; width=&quot;550&quot; height=&quot;550&quot; scrolling=&quot;no&quot; frameborder=&quot;0&quot; allowfullscreen&amp;gt;&amp;lt;/iframe&amp;gt;&quot;,550,null,false,550}</td><td>{{null,&quot;Imgur: The most awesome images on the Internet.&quot;,550,&quot;&amp;lt;iframe class=&quot;embedly-embed&quot; src=&quot;//cdn.embedly.com/widgets/media.html?src=%2F%2Fimgur.com%2Fa%2FRa0M6%2Fembed&amp;amp;url=https%3A%2F%2Fimgur.com%2Fa%2FRa0M6&amp;amp;image=http%3A%2F%2Fi.imgur.com%2FESsgdIW.jpg%3Ffb&amp;amp;key=522baf40bd3911e08d854040d3dc5c07&amp;amp;type=text%2Fhtml&amp;amp;schema=imgur&quot; width=&quot;550&quot; height=&quot;550&quot; scrolling=&quot;no&quot; frameborder=&quot;0&quot; allowfullscreen&amp;gt;&amp;lt;/iframe&amp;gt;&quot;,&quot;Imgur&quot;,&quot;http://imgur.com&quot;,315,&quot;http://i.imgur.com/ESsgdIW.jpg?fb&quot;,600,&quot;Imgur: The most awesome images on the Internet&quot;,&quot;rich&quot;,null,&quot;1.0&quot;,550,null,null},&quot;imgur.com&quot;,null}</td><td>&quot;https://imgur.com/a/Ra0M6&quot;</td><td>&quot;thumbnails/6un2v8.jpg&quot;</td><td>7.358334</td><td>8.0</td><td>2.37952</td><td>7.166667</td><td>10</td></tr><tr><td>&quot;6upkv5&quot;</td><td>&quot;Mest666&quot;</td><td>1503155600</td><td>&quot;truerateme&quot;</td><td>&quot;M25, seems like place for brav…</td><td>&quot;&quot;</td><td>{&quot;&amp;lt;iframe class=&quot;embedly-embed&quot; src=&quot;//cdn.embedly.com/widgets/media.html?src=%2F%2Fimgur.com%2Fa%2F60OLb%2Fembed&amp;amp;url=https%3A%2F%2Fimgur.com%2Fa%2F60OLb&amp;amp;image=http%3A%2F%2Fi.imgur.com%2FoYkY1Nb.jpg%3Ffb&amp;amp;key=522baf40bd3911e08d854040d3dc5c07&amp;amp;type=text%2Fhtml&amp;amp;schema=imgur&quot; width=&quot;550&quot; height=&quot;550&quot; scrolling=&quot;no&quot; frameborder=&quot;0&quot; allowfullscreen&amp;gt;&amp;lt;/iframe&amp;gt;&quot;,550,null,false,550}</td><td>{{null,&quot;Imgur: The most awesome images on the Internet.&quot;,550,&quot;&amp;lt;iframe class=&quot;embedly-embed&quot; src=&quot;//cdn.embedly.com/widgets/media.html?src=%2F%2Fimgur.com%2Fa%2F60OLb%2Fembed&amp;amp;url=https%3A%2F%2Fimgur.com%2Fa%2F60OLb&amp;amp;image=http%3A%2F%2Fi.imgur.com%2FoYkY1Nb.jpg%3Ffb&amp;amp;key=522baf40bd3911e08d854040d3dc5c07&amp;amp;type=text%2Fhtml&amp;amp;schema=imgur&quot; width=&quot;550&quot; height=&quot;550&quot; scrolling=&quot;no&quot; frameborder=&quot;0&quot; allowfullscreen&amp;gt;&amp;lt;/iframe&amp;gt;&quot;,&quot;Imgur&quot;,&quot;http://imgur.com&quot;,315,&quot;http://i.imgur.com/oYkY1Nb.jpg?fb&quot;,600,&quot;Imgur: The most awesome images on the Internet&quot;,&quot;rich&quot;,null,&quot;1.0&quot;,550,null,null},&quot;imgur.com&quot;,null}</td><td>&quot;https://imgur.com/a/60OLb&quot;</td><td>&quot;thumbnails/6upkv5.jpg&quot;</td><td>5.95</td><td>6.625</td><td>1.690661</td><td>5.784722</td><td>10</td></tr><tr><td>&hellip;</td><td>&hellip;</td><td>&hellip;</td><td>&hellip;</td><td>&hellip;</td><td>&hellip;</td><td>&hellip;</td><td>&hellip;</td><td>&hellip;</td><td>&hellip;</td><td>&hellip;</td><td>&hellip;</td><td>&hellip;</td><td>&hellip;</td><td>&hellip;</td></tr><tr><td>&quot;yhuzth&quot;</td><td>&quot;ElsaOutlaw&quot;</td><td>1667175103</td><td>&quot;truerateme&quot;</td><td>&quot;F33&quot;</td><td>&quot;&quot;</td><td>{&quot;&amp;lt;iframe class=&quot;embedly-embed&quot; src=&quot;https://cdn.embedly.com/widgets/media.html?src=https%3A%2F%2Fimgur.com%2Fa%2FS3trDWm%2Fembed%3Fpub%3Dtrue%26ref%3Dhttps%253A%252F%252Fembed.ly%26w%3D900&amp;amp;display_name=Imgur&amp;amp;url=https%3A%2F%2Fimgur.com%2Fa%2FS3trDWm&amp;amp;image=https%3A%2F%2Fi.imgur.com%2FEsjpvnq.jpg%3Ffb&amp;amp;key=2aa3c4d5f3de4f5b9120b660ad850dc9&amp;amp;type=text%2Fhtml&amp;amp;schema=imgur&quot; width=&quot;600&quot; height=&quot;490&quot; scrolling=&quot;no&quot; title=&quot;Imgur embed&quot; frameborder=&quot;0&quot; allow=&quot;autoplay; fullscreen&quot; allowfullscreen=&quot;true&quot;&amp;gt;&amp;lt;/iframe&amp;gt;&quot;,490,null,false,600}</td><td>{{null,&quot;Post with 0 views.&quot;,490,&quot;&amp;lt;iframe class=&quot;embedly-embed&quot; src=&quot;https://cdn.embedly.com/widgets/media.html?src=https%3A%2F%2Fimgur.com%2Fa%2FS3trDWm%2Fembed%3Fpub%3Dtrue%26ref%3Dhttps%253A%252F%252Fembed.ly%26w%3D900&amp;amp;display_name=Imgur&amp;amp;url=https%3A%2F%2Fimgur.com%2Fa%2FS3trDWm&amp;amp;image=https%3A%2F%2Fi.imgur.com%2FEsjpvnq.jpg%3Ffb&amp;amp;key=2aa3c4d5f3de4f5b9120b660ad850dc9&amp;amp;type=text%2Fhtml&amp;amp;schema=imgur&quot; width=&quot;600&quot; height=&quot;490&quot; scrolling=&quot;no&quot; title=&quot;Imgur embed&quot; frameborder=&quot;0&quot; allow=&quot;autoplay; fullscreen&quot; allowfullscreen=&quot;true&quot;&amp;gt;&amp;lt;/iframe&amp;gt;&quot;,&quot;Imgur&quot;,&quot;http://imgur.com&quot;,315,&quot;https://i.imgur.com/Esjpvnq.jpg?fb&quot;,600,&quot;Imgur&quot;,&quot;rich&quot;,&quot;https://imgur.com/a/S3trDWm&quot;,&quot;1.0&quot;,600,null,null},&quot;imgur.com&quot;,null}</td><td>&quot;https://imgur.com/a/S3trDWm&quot;</td><td>&quot;thumbnails/yhuzth.jpg&quot;</td><td>5.416667</td><td>5.0</td><td>1.076904</td><td>5.416667</td><td>5</td></tr><tr><td>&quot;yski07&quot;</td><td>&quot;JustADumbThrowAway2&quot;</td><td>1668195140</td><td>&quot;truerateme&quot;</td><td>&quot;26M Going on a date for the fi…</td><td>&quot;&quot;</td><td>{&quot;&amp;lt;iframe class=&quot;embedly-embed&quot; src=&quot;https://cdn.embedly.com/widgets/media.html?src=https%3A%2F%2Fimgur.com%2Fa%2F8zViwt2%2Fembed%3Fpub%3Dtrue%26ref%3Dhttps%253A%252F%252Fembed.ly%26w%3D900&amp;amp;display_name=Imgur&amp;amp;url=https%3A%2F%2Fimgur.com%2Fa%2F8zViwt2&amp;amp;image=https%3A%2F%2Fi.imgur.com%2F49cxFH7.jpg%3Ffb&amp;amp;key=2aa3c4d5f3de4f5b9120b660ad850dc9&amp;amp;type=text%2Fhtml&amp;amp;schema=imgur&quot; width=&quot;600&quot; height=&quot;1122&quot; scrolling=&quot;no&quot; title=&quot;Imgur embed&quot; frameborder=&quot;0&quot; allow=&quot;autoplay; fullscreen&quot; allowfullscreen=&quot;true&quot;&amp;gt;&amp;lt;/iframe&amp;gt;&quot;,1122,null,false,600}</td><td>{{null,&quot;Post with 10 votes and 10 views. Shared by LovesDick35. .&quot;,1122,&quot;&amp;lt;iframe class=&quot;embedly-embed&quot; src=&quot;https://cdn.embedly.com/widgets/media.html?src=https%3A%2F%2Fimgur.com%2Fa%2F8zViwt2%2Fembed%3Fpub%3Dtrue%26ref%3Dhttps%253A%252F%252Fembed.ly%26w%3D900&amp;amp;display_name=Imgur&amp;amp;url=https%3A%2F%2Fimgur.com%2Fa%2F8zViwt2&amp;amp;image=https%3A%2F%2Fi.imgur.com%2F49cxFH7.jpg%3Ffb&amp;amp;key=2aa3c4d5f3de4f5b9120b660ad850dc9&amp;amp;type=text%2Fhtml&amp;amp;schema=imgur&quot; width=&quot;600&quot; height=&quot;1122&quot; scrolling=&quot;no&quot; title=&quot;Imgur embed&quot; frameborder=&quot;0&quot; allow=&quot;autoplay; fullscreen&quot; allowfullscreen=&quot;true&quot;&amp;gt;&amp;lt;/iframe&amp;gt;&quot;,&quot;Imgur&quot;,&quot;http://imgur.com&quot;,315,&quot;https://i.imgur.com/49cxFH7.jpg?fb&quot;,600,&quot;.&quot;,&quot;rich&quot;,&quot;https://imgur.com/a/8zViwt2&quot;,&quot;1.0&quot;,600,&quot;&quot;,null},&quot;imgur.com&quot;,null}</td><td>&quot;https://imgur.com/gallery/8zVi…</td><td>&quot;thumbnails/yski07.jpg&quot;</td><td>4.2</td><td>4.2</td><td>0.0</td><td>4.2</td><td>1</td></tr><tr><td>&quot;z42v1x&quot;</td><td>&quot;oirawsh&quot;</td><td>1669347539</td><td>&quot;truerateme&quot;</td><td>&quot;M20 Rating and suggestions ple…</td><td>&quot;&quot;</td><td>{&quot;&amp;lt;iframe class=&quot;embedly-embed&quot; src=&quot;https://cdn.embedly.com/widgets/media.html?src=https%3A%2F%2Fimgur.com%2Fa%2FhtWNojp%2Fembed%3Fpub%3Dtrue%26ref%3Dhttps%253A%252F%252Fembed.ly%26w%3D900&amp;amp;display_name=Imgur&amp;amp;url=https%3A%2F%2Fimgur.com%2Fa%2FhtWNojp&amp;amp;image=https%3A%2F%2Fi.imgur.com%2FsKh0tbr.jpg%3Ffb&amp;amp;key=2aa3c4d5f3de4f5b9120b660ad850dc9&amp;amp;type=text%2Fhtml&amp;amp;schema=imgur&quot; width=&quot;600&quot; height=&quot;840&quot; scrolling=&quot;no&quot; title=&quot;Imgur embed&quot; frameborder=&quot;0&quot; allow=&quot;autoplay; fullscreen&quot; allowfullscreen=&quot;true&quot;&amp;gt;&amp;lt;/iframe&amp;gt;&quot;,840,null,false,600}</td><td>{{null,&quot;Post with 1 views.&quot;,840,&quot;&amp;lt;iframe class=&quot;embedly-embed&quot; src=&quot;https://cdn.embedly.com/widgets/media.html?src=https%3A%2F%2Fimgur.com%2Fa%2FhtWNojp%2Fembed%3Fpub%3Dtrue%26ref%3Dhttps%253A%252F%252Fembed.ly%26w%3D900&amp;amp;display_name=Imgur&amp;amp;url=https%3A%2F%2Fimgur.com%2Fa%2FhtWNojp&amp;amp;image=https%3A%2F%2Fi.imgur.com%2FsKh0tbr.jpg%3Ffb&amp;amp;key=2aa3c4d5f3de4f5b9120b660ad850dc9&amp;amp;type=text%2Fhtml&amp;amp;schema=imgur&quot; width=&quot;600&quot; height=&quot;840&quot; scrolling=&quot;no&quot; title=&quot;Imgur embed&quot; frameborder=&quot;0&quot; allow=&quot;autoplay; fullscreen&quot; allowfullscreen=&quot;true&quot;&amp;gt;&amp;lt;/iframe&amp;gt;&quot;,&quot;Imgur&quot;,&quot;http://imgur.com&quot;,315,&quot;https://i.imgur.com/sKh0tbr.jpg?fb&quot;,600,&quot;Imgur&quot;,&quot;rich&quot;,&quot;https://imgur.com/a/htWNojp&quot;,&quot;1.0&quot;,600,null,null},&quot;imgur.com&quot;,null}</td><td>&quot;https://imgur.com/a/htWNojp/&quot;</td><td>&quot;thumbnails/z42v1x.jpg&quot;</td><td>5.5</td><td>5.5</td><td>0.707107</td><td>5.0</td><td>2</td></tr><tr><td>&quot;z4czi2&quot;</td><td>&quot;hudeyu&quot;</td><td>1669381675</td><td>&quot;truerateme&quot;</td><td>&quot;[F 31] Be as honest as possibl…</td><td>&quot;&quot;</td><td>{&quot;&amp;lt;iframe class=&quot;embedly-embed&quot; src=&quot;https://cdn.embedly.com/widgets/media.html?src=https%3A%2F%2Fimgur.com%2Fa%2FCOPvEQp%2Fembed%3Fpub%3Dtrue%26ref%3Dhttps%253A%252F%252Fembed.ly%26w%3D900&amp;amp;display_name=Imgur&amp;amp;url=https%3A%2F%2Fimgur.com%2Fa%2FCOPvEQp&amp;amp;image=https%3A%2F%2Fi.imgur.com%2F1WvOvVT.jpg%3Ffb&amp;amp;key=2aa3c4d5f3de4f5b9120b660ad850dc9&amp;amp;type=text%2Fhtml&amp;amp;schema=imgur&quot; width=&quot;600&quot; height=&quot;640&quot; scrolling=&quot;no&quot; title=&quot;Imgur embed&quot; frameborder=&quot;0&quot; allow=&quot;autoplay; fullscreen&quot; allowfullscreen=&quot;true&quot;&amp;gt;&amp;lt;/iframe&amp;gt;&quot;,640,null,false,600}</td><td>{{null,&quot;Post with 43 views.&quot;,640,&quot;&amp;lt;iframe class=&quot;embedly-embed&quot; src=&quot;https://cdn.embedly.com/widgets/media.html?src=https%3A%2F%2Fimgur.com%2Fa%2FCOPvEQp%2Fembed%3Fpub%3Dtrue%26ref%3Dhttps%253A%252F%252Fembed.ly%26w%3D900&amp;amp;display_name=Imgur&amp;amp;url=https%3A%2F%2Fimgur.com%2Fa%2FCOPvEQp&amp;amp;image=https%3A%2F%2Fi.imgur.com%2F1WvOvVT.jpg%3Ffb&amp;amp;key=2aa3c4d5f3de4f5b9120b660ad850dc9&amp;amp;type=text%2Fhtml&amp;amp;schema=imgur&quot; width=&quot;600&quot; height=&quot;640&quot; scrolling=&quot;no&quot; title=&quot;Imgur embed&quot; frameborder=&quot;0&quot; allow=&quot;autoplay; fullscreen&quot; allowfullscreen=&quot;true&quot;&amp;gt;&amp;lt;/iframe&amp;gt;&quot;,&quot;Imgur&quot;,&quot;http://imgur.com&quot;,315,&quot;https://i.imgur.com/1WvOvVT.jpg?fb&quot;,600,&quot;Imgur&quot;,&quot;rich&quot;,&quot;https://imgur.com/a/COPvEQp&quot;,&quot;1.0&quot;,600,null,null},&quot;imgur.com&quot;,null}</td><td>&quot;https://imgur.com/a/COPvEQp&quot;</td><td>&quot;thumbnails/z4czi2.jpg&quot;</td><td>4.840625</td><td>4.9</td><td>0.491706</td><td>4.965625</td><td>8</td></tr><tr><td>&quot;z9wck8&quot;</td><td>&quot;Mrarabush&quot;</td><td>1669921259</td><td>&quot;truerateme&quot;</td><td>&quot;27M. I think I’m a solid 4 or …</td><td>&quot;&quot;</td><td>{&quot;&amp;lt;iframe class=&quot;embedly-embed&quot; src=&quot;https://cdn.embedly.com/widgets/media.html?src=https%3A%2F%2Fimgur.com%2Fa%2F2Mbwt1F%2Fembed%3Fpub%3Dtrue%26ref%3Dhttps%253A%252F%252Fembed.ly%26w%3D900&amp;amp;display_name=Imgur&amp;amp;url=https%3A%2F%2Fimgur.com%2Fa%2F2Mbwt1F&amp;amp;image=https%3A%2F%2Fi.imgur.com%2Fj7pzioN.jpg%3Ffb&amp;amp;key=2aa3c4d5f3de4f5b9120b660ad850dc9&amp;amp;type=text%2Fhtml&amp;amp;schema=imgur&quot; width=&quot;600&quot; height=&quot;840&quot; scrolling=&quot;no&quot; title=&quot;Imgur embed&quot; frameborder=&quot;0&quot; allow=&quot;autoplay; fullscreen&quot; allowfullscreen=&quot;true&quot;&amp;gt;&amp;lt;/iframe&amp;gt;&quot;,840,null,false,600}</td><td>{{null,&quot;Post with 0 views.&quot;,840,&quot;&amp;lt;iframe class=&quot;embedly-embed&quot; src=&quot;https://cdn.embedly.com/widgets/media.html?src=https%3A%2F%2Fimgur.com%2Fa%2F2Mbwt1F%2Fembed%3Fpub%3Dtrue%26ref%3Dhttps%253A%252F%252Fembed.ly%26w%3D900&amp;amp;display_name=Imgur&amp;amp;url=https%3A%2F%2Fimgur.com%2Fa%2F2Mbwt1F&amp;amp;image=https%3A%2F%2Fi.imgur.com%2Fj7pzioN.jpg%3Ffb&amp;amp;key=2aa3c4d5f3de4f5b9120b660ad850dc9&amp;amp;type=text%2Fhtml&amp;amp;schema=imgur&quot; width=&quot;600&quot; height=&quot;840&quot; scrolling=&quot;no&quot; title=&quot;Imgur embed&quot; frameborder=&quot;0&quot; allow=&quot;autoplay; fullscreen&quot; allowfullscreen=&quot;true&quot;&amp;gt;&amp;lt;/iframe&amp;gt;&quot;,&quot;Imgur&quot;,&quot;http://imgur.com&quot;,315,&quot;https://i.imgur.com/j7pzioN.jpg?fb&quot;,600,&quot;Imgur&quot;,&quot;rich&quot;,&quot;https://imgur.com/a/2Mbwt1F&quot;,&quot;1.0&quot;,600,null,null},&quot;imgur.com&quot;,null}</td><td>&quot;https://imgur.com/a/2Mbwt1F&quot;</td><td>&quot;thumbnails/z9wck8.jpg&quot;</td><td>4.875</td><td>4.875</td><td>0.0</td><td>4.875</td><td>1</td></tr></tbody></table></div>"
      ],
      "text/plain": [
       "shape: (1_324, 15)\n",
       "┌────────┬────────────┬────────────┬───────────┬───┬───────────┬───────────┬───────────┬───────────┐\n",
       "│ id     ┆ author     ┆ created_ut ┆ subreddit ┆ … ┆ median_ra ┆ rating_st ┆ weighted_ ┆ rating_co │\n",
       "│ ---    ┆ ---        ┆ c          ┆ ---       ┆   ┆ ting      ┆ dev       ┆ rating    ┆ unt       │\n",
       "│ str    ┆ str        ┆ ---        ┆ str       ┆   ┆ ---       ┆ ---       ┆ ---       ┆ ---       │\n",
       "│        ┆            ┆ i64        ┆           ┆   ┆ f32       ┆ f32       ┆ f64       ┆ u32       │\n",
       "╞════════╪════════════╪════════════╪═══════════╪═══╪═══════════╪═══════════╪═══════════╪═══════════╡\n",
       "│ 6um2bk ┆ Josh_norma ┆ 1503103734 ┆ trueratem ┆ … ┆ 7.0       ┆ 1.141849  ┆ 6.838235  ┆ 9         │\n",
       "│        ┆ n05        ┆            ┆ e         ┆   ┆           ┆           ┆           ┆           │\n",
       "│ 6umpik ┆ PettingXu  ┆ 1503111646 ┆ trueratem ┆ … ┆ 7.125     ┆ 0.532197  ┆ 7.235632  ┆ 8         │\n",
       "│        ┆            ┆            ┆ e         ┆   ┆           ┆           ┆           ┆           │\n",
       "│ 6un283 ┆ Mr-Rushifa ┆ 1503116342 ┆ trueratem ┆ … ┆ 9.0       ┆ 0.68085   ┆ 8.543662  ┆ 22        │\n",
       "│        ┆            ┆            ┆ e         ┆   ┆           ┆           ┆           ┆           │\n",
       "│ 6un2v8 ┆ mindmonkey ┆ 1503116572 ┆ trueratem ┆ … ┆ 8.0       ┆ 2.37952   ┆ 7.166667  ┆ 10        │\n",
       "│        ┆ 00         ┆            ┆ e         ┆   ┆           ┆           ┆           ┆           │\n",
       "│ 6upkv5 ┆ Mest666    ┆ 1503155600 ┆ trueratem ┆ … ┆ 6.625     ┆ 1.690661  ┆ 5.784722  ┆ 10        │\n",
       "│        ┆            ┆            ┆ e         ┆   ┆           ┆           ┆           ┆           │\n",
       "│ …      ┆ …          ┆ …          ┆ …         ┆ … ┆ …         ┆ …         ┆ …         ┆ …         │\n",
       "│ yhuzth ┆ ElsaOutlaw ┆ 1667175103 ┆ trueratem ┆ … ┆ 5.0       ┆ 1.076904  ┆ 5.416667  ┆ 5         │\n",
       "│        ┆            ┆            ┆ e         ┆   ┆           ┆           ┆           ┆           │\n",
       "│ yski07 ┆ JustADumbT ┆ 1668195140 ┆ trueratem ┆ … ┆ 4.2       ┆ 0.0       ┆ 4.2       ┆ 1         │\n",
       "│        ┆ hrowAway2  ┆            ┆ e         ┆   ┆           ┆           ┆           ┆           │\n",
       "│ z42v1x ┆ oirawsh    ┆ 1669347539 ┆ trueratem ┆ … ┆ 5.5       ┆ 0.707107  ┆ 5.0       ┆ 2         │\n",
       "│        ┆            ┆            ┆ e         ┆   ┆           ┆           ┆           ┆           │\n",
       "│ z4czi2 ┆ hudeyu     ┆ 1669381675 ┆ trueratem ┆ … ┆ 4.9       ┆ 0.491706  ┆ 4.965625  ┆ 8         │\n",
       "│        ┆            ┆            ┆ e         ┆   ┆           ┆           ┆           ┆           │\n",
       "│ z9wck8 ┆ Mrarabush  ┆ 1669921259 ┆ trueratem ┆ … ┆ 4.875     ┆ 0.0       ┆ 4.875     ┆ 1         │\n",
       "│        ┆            ┆            ┆ e         ┆   ┆           ┆           ┆           ┆           │\n",
       "└────────┴────────────┴────────────┴───────────┴───┴───────────┴───────────┴───────────┴───────────┘"
      ]
     },
     "execution_count": 25,
     "metadata": {},
     "output_type": "execute_result"
    }
   ],
   "source": [
    "# Join comments onto posts\n",
    "reddit_posts = pl.read_parquet(\"reddit_posts.parquet\")\n",
    "\n",
    "rated_posts = reddit_posts.join(\n",
    "    rated_comments,\n",
    "    left_on  = \"id\",\n",
    "    right_on = \"thread\",\n",
    "    how      = \"inner\"\n",
    ").with_columns(\n",
    "    zeroed_score = pl.when(pl.col(\"score\") < 0).then(0).otherwise(pl.col(\"score\"))\n",
    ").group_by('id').agg(\n",
    "    mean_rating     = pl.col(\"rating\").mean().alias(\"mean_rating\"),\n",
    "    median_rating   = pl.col(\"rating\").median().alias(\"median_rating\"),\n",
    "    rating_stdev    = pl.col(\"rating\").std().fill_null(0).alias(\"rating_stdev\"),\n",
    "    weighted_rating = (pl.col(\"rating\") * pl.col(\"zeroed_score\")).sum() / pl.col(\"zeroed_score\").sum(),\n",
    "    rating_count    = pl.col(\"rating\").count().alias(\"rating_count\"),\n",
    ")\n",
    "\n",
    "# Join ratings back onto posts\n",
    "reddit_posts = reddit_posts.join(\n",
    "    rated_posts,\n",
    "    left_on  = \"id\",\n",
    "    right_on = \"id\",\n",
    "    how      = \"left\"\n",
    ").filter(\n",
    "    (pl.col(\"rating_count\") > 0) &\n",
    "    (pl.col(\"local_thumbnail_path\") != \"\")\n",
    ")\n",
    "\n",
    "reddit_posts.write_parquet(\"reddit_posts_rated.parquet\")\n",
    "reddit_posts"
   ]
  },
  {
   "cell_type": "code",
   "execution_count": 28,
   "metadata": {},
   "outputs": [],
   "source": [
    "# Now, filter out all imgur image not found pics\n",
    "# TODO: this should be done before everything in the other notebook\n",
    "import os\n",
    "from PIL import Image\n",
    "def is_imgur_imagenotfound(path:str):\n",
    "    file_size = os.path.getsize(path)\n",
    "    \n",
    "    with Image.open(path) as img:\n",
    "        width, height = img.size\n",
    "    \n",
    "    return file_size == 503 and width == 161 and height == 81"
   ]
  },
  {
   "cell_type": "code",
   "execution_count": 29,
   "metadata": {},
   "outputs": [
    {
     "data": {
      "text/plain": [
       "True"
      ]
     },
     "execution_count": 29,
     "metadata": {},
     "output_type": "execute_result"
    }
   ],
   "source": [
    "is_imgur_imagenotfound(\"thumbnails/6uohb4.jpg\")"
   ]
  },
  {
   "cell_type": "code",
   "execution_count": 30,
   "metadata": {},
   "outputs": [
    {
     "data": {
      "text/html": [
       "<div><style>\n",
       ".dataframe > thead > tr,\n",
       ".dataframe > tbody > tr {\n",
       "  text-align: right;\n",
       "  white-space: pre-wrap;\n",
       "}\n",
       "</style>\n",
       "<small>shape: (1_017, 15)</small><table border=\"1\" class=\"dataframe\"><thead><tr><th>id</th><th>author</th><th>created_utc</th><th>subreddit</th><th>title</th><th>selftext</th><th>media_embed</th><th>media</th><th>url</th><th>local_thumbnail_path</th><th>mean_rating</th><th>median_rating</th><th>rating_stdev</th><th>weighted_rating</th><th>rating_count</th></tr><tr><td>str</td><td>str</td><td>i64</td><td>str</td><td>str</td><td>str</td><td>struct[5]</td><td>struct[3]</td><td>str</td><td>str</td><td>f32</td><td>f32</td><td>f32</td><td>f64</td><td>u32</td></tr></thead><tbody><tr><td>&quot;6um2bk&quot;</td><td>&quot;Josh_norman05&quot;</td><td>1503103734</td><td>&quot;truerateme&quot;</td><td>&quot;[21M] Rateme, I&#x27;m 6&#x27;1&quot; and 200…</td><td>&quot;&quot;</td><td>{&quot;&amp;lt;iframe class=&quot;embedly-embed&quot; src=&quot;//cdn.embedly.com/widgets/media.html?src=%2F%2Fimgur.com%2Fa%2Fv2xU7%2Fembed&amp;amp;url=http%3A%2F%2Fimgur.com%2Fa%2Fv2xU7&amp;amp;image=http%3A%2F%2Fi.imgur.com%2FpCLxBv8.jpg%3Ffb&amp;amp;key=522baf40bd3911e08d854040d3dc5c07&amp;amp;type=text%2Fhtml&amp;amp;schema=imgur&quot; width=&quot;550&quot; height=&quot;550&quot; scrolling=&quot;no&quot; frameborder=&quot;0&quot; allowfullscreen&amp;gt;&amp;lt;/iframe&amp;gt;&quot;,550,null,false,550}</td><td>{{null,&quot;Imgur: The most awesome images on the Internet.&quot;,550,&quot;&amp;lt;iframe class=&quot;embedly-embed&quot; src=&quot;//cdn.embedly.com/widgets/media.html?src=%2F%2Fimgur.com%2Fa%2Fv2xU7%2Fembed&amp;amp;url=http%3A%2F%2Fimgur.com%2Fa%2Fv2xU7&amp;amp;image=http%3A%2F%2Fi.imgur.com%2FpCLxBv8.jpg%3Ffb&amp;amp;key=522baf40bd3911e08d854040d3dc5c07&amp;amp;type=text%2Fhtml&amp;amp;schema=imgur&quot; width=&quot;550&quot; height=&quot;550&quot; scrolling=&quot;no&quot; frameborder=&quot;0&quot; allowfullscreen&amp;gt;&amp;lt;/iframe&amp;gt;&quot;,&quot;Imgur&quot;,&quot;http://imgur.com&quot;,315,&quot;http://i.imgur.com/pCLxBv8.jpg?fb&quot;,600,&quot;Imgur: The most awesome images on the Internet&quot;,&quot;rich&quot;,null,&quot;1.0&quot;,550,null,null},&quot;imgur.com&quot;,null}</td><td>&quot;http://imgur.com/a/v2xU7&quot;</td><td>&quot;thumbnails/6um2bk.jpg&quot;</td><td>6.777778</td><td>7.0</td><td>1.141849</td><td>6.838235</td><td>9</td></tr><tr><td>&quot;6umpik&quot;</td><td>&quot;PettingXu&quot;</td><td>1503111646</td><td>&quot;truerateme&quot;</td><td>&quot;M23 tear me a new one guys&quot;</td><td>&quot;&quot;</td><td>{&quot;&amp;lt;iframe class=&quot;embedly-embed&quot; src=&quot;//cdn.embedly.com/widgets/media.html?src=%2F%2Fimgur.com%2Fa%2F2loQ6%2Fembed&amp;amp;url=https%3A%2F%2Fimgur.com%2Fa%2F2loQ6&amp;amp;image=http%3A%2F%2Fi.imgur.com%2F7HP3ftQ.jpg%3Ffb&amp;amp;key=522baf40bd3911e08d854040d3dc5c07&amp;amp;type=text%2Fhtml&amp;amp;schema=imgur&quot; width=&quot;550&quot; height=&quot;550&quot; scrolling=&quot;no&quot; frameborder=&quot;0&quot; allowfullscreen&amp;gt;&amp;lt;/iframe&amp;gt;&quot;,550,null,false,550}</td><td>{{null,&quot;Imgur: The most awesome images on the Internet.&quot;,550,&quot;&amp;lt;iframe class=&quot;embedly-embed&quot; src=&quot;//cdn.embedly.com/widgets/media.html?src=%2F%2Fimgur.com%2Fa%2F2loQ6%2Fembed&amp;amp;url=https%3A%2F%2Fimgur.com%2Fa%2F2loQ6&amp;amp;image=http%3A%2F%2Fi.imgur.com%2F7HP3ftQ.jpg%3Ffb&amp;amp;key=522baf40bd3911e08d854040d3dc5c07&amp;amp;type=text%2Fhtml&amp;amp;schema=imgur&quot; width=&quot;550&quot; height=&quot;550&quot; scrolling=&quot;no&quot; frameborder=&quot;0&quot; allowfullscreen&amp;gt;&amp;lt;/iframe&amp;gt;&quot;,&quot;Imgur&quot;,&quot;http://imgur.com&quot;,315,&quot;http://i.imgur.com/7HP3ftQ.jpg?fb&quot;,600,&quot;Reddit Rateme&quot;,&quot;rich&quot;,null,&quot;1.0&quot;,550,null,null},&quot;m.imgur.com&quot;,null}</td><td>&quot;https://m.imgur.com/a/2loQ6&quot;</td><td>&quot;thumbnails/6umpik.jpg&quot;</td><td>7.104167</td><td>7.125</td><td>0.532197</td><td>7.235632</td><td>8</td></tr><tr><td>&quot;6un283&quot;</td><td>&quot;Mr-Rushifa&quot;</td><td>1503116342</td><td>&quot;truerateme&quot;</td><td>&quot;[22M] 6&#x27;6&quot; Was told to post he…</td><td>&quot;&quot;</td><td>{&quot;&amp;lt;iframe class=&quot;embedly-embed&quot; src=&quot;//cdn.embedly.com/widgets/media.html?src=%2F%2Fimgur.com%2Fa%2FD0rJP%2Fembed&amp;amp;url=https%3A%2F%2Fimgur.com%2Fa%2FD0rJP&amp;amp;image=http%3A%2F%2Fi.imgur.com%2FHkIQCm5.jpg%3Ffb&amp;amp;key=2aa3c4d5f3de4f5b9120b660ad850dc9&amp;amp;type=text%2Fhtml&amp;amp;schema=imgur&quot; width=&quot;550&quot; height=&quot;550&quot; scrolling=&quot;no&quot; frameborder=&quot;0&quot; allowfullscreen&amp;gt;&amp;lt;/iframe&amp;gt;&quot;,550,null,false,550}</td><td>{{null,&quot;Imgur: The most awesome images on the Internet.&quot;,550,&quot;&amp;lt;iframe class=&quot;embedly-embed&quot; src=&quot;//cdn.embedly.com/widgets/media.html?src=%2F%2Fimgur.com%2Fa%2FD0rJP%2Fembed&amp;amp;url=https%3A%2F%2Fimgur.com%2Fa%2FD0rJP&amp;amp;image=http%3A%2F%2Fi.imgur.com%2FHkIQCm5.jpg%3Ffb&amp;amp;key=2aa3c4d5f3de4f5b9120b660ad850dc9&amp;amp;type=text%2Fhtml&amp;amp;schema=imgur&quot; width=&quot;550&quot; height=&quot;550&quot; scrolling=&quot;no&quot; frameborder=&quot;0&quot; allowfullscreen&amp;gt;&amp;lt;/iframe&amp;gt;&quot;,&quot;Imgur&quot;,&quot;http://imgur.com&quot;,315,&quot;http://i.imgur.com/HkIQCm5.jpg?fb&quot;,600,&quot;Gallery&quot;,&quot;rich&quot;,null,&quot;1.0&quot;,550,null,null},&quot;imgur.com&quot;,null}</td><td>&quot;https://imgur.com/a/D0rJP&quot;</td><td>&quot;thumbnails/6un283.jpg&quot;</td><td>8.814661</td><td>9.0</td><td>0.68085</td><td>8.543662</td><td>22</td></tr><tr><td>&quot;6un2v8&quot;</td><td>&quot;mindmonkey00&quot;</td><td>1503116572</td><td>&quot;truerateme&quot;</td><td>&quot;[M 23] Rate my ginger ass and …</td><td>&quot;&quot;</td><td>{&quot;&amp;lt;iframe class=&quot;embedly-embed&quot; src=&quot;//cdn.embedly.com/widgets/media.html?src=%2F%2Fimgur.com%2Fa%2FRa0M6%2Fembed&amp;amp;url=https%3A%2F%2Fimgur.com%2Fa%2FRa0M6&amp;amp;image=http%3A%2F%2Fi.imgur.com%2FESsgdIW.jpg%3Ffb&amp;amp;key=522baf40bd3911e08d854040d3dc5c07&amp;amp;type=text%2Fhtml&amp;amp;schema=imgur&quot; width=&quot;550&quot; height=&quot;550&quot; scrolling=&quot;no&quot; frameborder=&quot;0&quot; allowfullscreen&amp;gt;&amp;lt;/iframe&amp;gt;&quot;,550,null,false,550}</td><td>{{null,&quot;Imgur: The most awesome images on the Internet.&quot;,550,&quot;&amp;lt;iframe class=&quot;embedly-embed&quot; src=&quot;//cdn.embedly.com/widgets/media.html?src=%2F%2Fimgur.com%2Fa%2FRa0M6%2Fembed&amp;amp;url=https%3A%2F%2Fimgur.com%2Fa%2FRa0M6&amp;amp;image=http%3A%2F%2Fi.imgur.com%2FESsgdIW.jpg%3Ffb&amp;amp;key=522baf40bd3911e08d854040d3dc5c07&amp;amp;type=text%2Fhtml&amp;amp;schema=imgur&quot; width=&quot;550&quot; height=&quot;550&quot; scrolling=&quot;no&quot; frameborder=&quot;0&quot; allowfullscreen&amp;gt;&amp;lt;/iframe&amp;gt;&quot;,&quot;Imgur&quot;,&quot;http://imgur.com&quot;,315,&quot;http://i.imgur.com/ESsgdIW.jpg?fb&quot;,600,&quot;Imgur: The most awesome images on the Internet&quot;,&quot;rich&quot;,null,&quot;1.0&quot;,550,null,null},&quot;imgur.com&quot;,null}</td><td>&quot;https://imgur.com/a/Ra0M6&quot;</td><td>&quot;thumbnails/6un2v8.jpg&quot;</td><td>7.358334</td><td>8.0</td><td>2.37952</td><td>7.166667</td><td>10</td></tr><tr><td>&quot;6uprsr&quot;</td><td>&quot;Zyros_&quot;</td><td>1503157729</td><td>&quot;truerateme&quot;</td><td>&quot;[29M] How is it right now? Did…</td><td>&quot;&quot;</td><td>{&quot;&amp;lt;iframe class=&quot;embedly-embed&quot; src=&quot;//cdn.embedly.com/widgets/media.html?src=%2F%2Fimgur.com%2Fa%2FHCOJO%2Fembed&amp;amp;url=http%3A%2F%2Fimgur.com%2Fa%2FHCOJO&amp;amp;image=http%3A%2F%2Fi.imgur.com%2Ffq9ABPF.jpg%3Ffb&amp;amp;key=522baf40bd3911e08d854040d3dc5c07&amp;amp;type=text%2Fhtml&amp;amp;schema=imgur&quot; width=&quot;550&quot; height=&quot;550&quot; scrolling=&quot;no&quot; frameborder=&quot;0&quot; allowfullscreen&amp;gt;&amp;lt;/iframe&amp;gt;&quot;,550,null,false,550}</td><td>{{null,&quot;Imgur: The most awesome images on the Internet.&quot;,550,&quot;&amp;lt;iframe class=&quot;embedly-embed&quot; src=&quot;//cdn.embedly.com/widgets/media.html?src=%2F%2Fimgur.com%2Fa%2FHCOJO%2Fembed&amp;amp;url=http%3A%2F%2Fimgur.com%2Fa%2FHCOJO&amp;amp;image=http%3A%2F%2Fi.imgur.com%2Ffq9ABPF.jpg%3Ffb&amp;amp;key=522baf40bd3911e08d854040d3dc5c07&amp;amp;type=text%2Fhtml&amp;amp;schema=imgur&quot; width=&quot;550&quot; height=&quot;550&quot; scrolling=&quot;no&quot; frameborder=&quot;0&quot; allowfullscreen&amp;gt;&amp;lt;/iframe&amp;gt;&quot;,&quot;Imgur&quot;,&quot;http://imgur.com&quot;,315,&quot;http://i.imgur.com/fq9ABPF.jpg?fb&quot;,600,&quot;Imgur: The most awesome images on the Internet&quot;,&quot;rich&quot;,null,&quot;1.0&quot;,550,null,null},&quot;imgur.com&quot;,null}</td><td>&quot;http://imgur.com/a/HCOJO&quot;</td><td>&quot;thumbnails/6uprsr.jpg&quot;</td><td>7.639057</td><td>8.0</td><td>0.98668</td><td>7.995351</td><td>19</td></tr><tr><td>&hellip;</td><td>&hellip;</td><td>&hellip;</td><td>&hellip;</td><td>&hellip;</td><td>&hellip;</td><td>&hellip;</td><td>&hellip;</td><td>&hellip;</td><td>&hellip;</td><td>&hellip;</td><td>&hellip;</td><td>&hellip;</td><td>&hellip;</td><td>&hellip;</td></tr><tr><td>&quot;ybb4pn&quot;</td><td>&quot;Billnben__5&quot;</td><td>1666509829</td><td>&quot;truerateme&quot;</td><td>&quot;22M First 2 photos with phone …</td><td>&quot;&quot;</td><td>{&quot;&amp;lt;iframe class=&quot;embedly-embed&quot; src=&quot;https://cdn.embedly.com/widgets/media.html?src=https%3A%2F%2Fimgur.com%2Fa%2FcMuctUz%2Fembed%3Fpub%3Dtrue%26ref%3Dhttps%253A%252F%252Fembed.ly%26w%3D900&amp;amp;display_name=Imgur&amp;amp;url=https%3A%2F%2Fimgur.com%2Fa%2FcMuctUz&amp;amp;image=https%3A%2F%2Fi.imgur.com%2FEw3uZ77.jpg%3Ffb&amp;amp;key=2aa3c4d5f3de4f5b9120b660ad850dc9&amp;amp;type=text%2Fhtml&amp;amp;schema=imgur&quot; width=&quot;600&quot; height=&quot;377&quot; scrolling=&quot;no&quot; title=&quot;Imgur embed&quot; frameborder=&quot;0&quot; allow=&quot;autoplay; fullscreen&quot; allowfullscreen=&quot;true&quot;&amp;gt;&amp;lt;/iframe&amp;gt;&quot;,377,null,false,600}</td><td>{{null,&quot;Post with 0 views.&quot;,377,&quot;&amp;lt;iframe class=&quot;embedly-embed&quot; src=&quot;https://cdn.embedly.com/widgets/media.html?src=https%3A%2F%2Fimgur.com%2Fa%2FcMuctUz%2Fembed%3Fpub%3Dtrue%26ref%3Dhttps%253A%252F%252Fembed.ly%26w%3D900&amp;amp;display_name=Imgur&amp;amp;url=https%3A%2F%2Fimgur.com%2Fa%2FcMuctUz&amp;amp;image=https%3A%2F%2Fi.imgur.com%2FEw3uZ77.jpg%3Ffb&amp;amp;key=2aa3c4d5f3de4f5b9120b660ad850dc9&amp;amp;type=text%2Fhtml&amp;amp;schema=imgur&quot; width=&quot;600&quot; height=&quot;377&quot; scrolling=&quot;no&quot; title=&quot;Imgur embed&quot; frameborder=&quot;0&quot; allow=&quot;autoplay; fullscreen&quot; allowfullscreen=&quot;true&quot;&amp;gt;&amp;lt;/iframe&amp;gt;&quot;,&quot;Imgur&quot;,&quot;http://imgur.com&quot;,315,&quot;https://i.imgur.com/Ew3uZ77.jpg?fb&quot;,600,&quot;Imgur&quot;,&quot;rich&quot;,&quot;https://imgur.com/a/cMuctUz&quot;,&quot;1.0&quot;,600,null,null},&quot;imgur.com&quot;,null}</td><td>&quot;https://imgur.com/a/cMuctUz&quot;</td><td>&quot;thumbnails/ybb4pn.jpg&quot;</td><td>6.1</td><td>6.1</td><td>0.0</td><td>6.1</td><td>1</td></tr><tr><td>&quot;yhuzth&quot;</td><td>&quot;ElsaOutlaw&quot;</td><td>1667175103</td><td>&quot;truerateme&quot;</td><td>&quot;F33&quot;</td><td>&quot;&quot;</td><td>{&quot;&amp;lt;iframe class=&quot;embedly-embed&quot; src=&quot;https://cdn.embedly.com/widgets/media.html?src=https%3A%2F%2Fimgur.com%2Fa%2FS3trDWm%2Fembed%3Fpub%3Dtrue%26ref%3Dhttps%253A%252F%252Fembed.ly%26w%3D900&amp;amp;display_name=Imgur&amp;amp;url=https%3A%2F%2Fimgur.com%2Fa%2FS3trDWm&amp;amp;image=https%3A%2F%2Fi.imgur.com%2FEsjpvnq.jpg%3Ffb&amp;amp;key=2aa3c4d5f3de4f5b9120b660ad850dc9&amp;amp;type=text%2Fhtml&amp;amp;schema=imgur&quot; width=&quot;600&quot; height=&quot;490&quot; scrolling=&quot;no&quot; title=&quot;Imgur embed&quot; frameborder=&quot;0&quot; allow=&quot;autoplay; fullscreen&quot; allowfullscreen=&quot;true&quot;&amp;gt;&amp;lt;/iframe&amp;gt;&quot;,490,null,false,600}</td><td>{{null,&quot;Post with 0 views.&quot;,490,&quot;&amp;lt;iframe class=&quot;embedly-embed&quot; src=&quot;https://cdn.embedly.com/widgets/media.html?src=https%3A%2F%2Fimgur.com%2Fa%2FS3trDWm%2Fembed%3Fpub%3Dtrue%26ref%3Dhttps%253A%252F%252Fembed.ly%26w%3D900&amp;amp;display_name=Imgur&amp;amp;url=https%3A%2F%2Fimgur.com%2Fa%2FS3trDWm&amp;amp;image=https%3A%2F%2Fi.imgur.com%2FEsjpvnq.jpg%3Ffb&amp;amp;key=2aa3c4d5f3de4f5b9120b660ad850dc9&amp;amp;type=text%2Fhtml&amp;amp;schema=imgur&quot; width=&quot;600&quot; height=&quot;490&quot; scrolling=&quot;no&quot; title=&quot;Imgur embed&quot; frameborder=&quot;0&quot; allow=&quot;autoplay; fullscreen&quot; allowfullscreen=&quot;true&quot;&amp;gt;&amp;lt;/iframe&amp;gt;&quot;,&quot;Imgur&quot;,&quot;http://imgur.com&quot;,315,&quot;https://i.imgur.com/Esjpvnq.jpg?fb&quot;,600,&quot;Imgur&quot;,&quot;rich&quot;,&quot;https://imgur.com/a/S3trDWm&quot;,&quot;1.0&quot;,600,null,null},&quot;imgur.com&quot;,null}</td><td>&quot;https://imgur.com/a/S3trDWm&quot;</td><td>&quot;thumbnails/yhuzth.jpg&quot;</td><td>5.416667</td><td>5.0</td><td>1.076904</td><td>5.416667</td><td>5</td></tr><tr><td>&quot;yski07&quot;</td><td>&quot;JustADumbThrowAway2&quot;</td><td>1668195140</td><td>&quot;truerateme&quot;</td><td>&quot;26M Going on a date for the fi…</td><td>&quot;&quot;</td><td>{&quot;&amp;lt;iframe class=&quot;embedly-embed&quot; src=&quot;https://cdn.embedly.com/widgets/media.html?src=https%3A%2F%2Fimgur.com%2Fa%2F8zViwt2%2Fembed%3Fpub%3Dtrue%26ref%3Dhttps%253A%252F%252Fembed.ly%26w%3D900&amp;amp;display_name=Imgur&amp;amp;url=https%3A%2F%2Fimgur.com%2Fa%2F8zViwt2&amp;amp;image=https%3A%2F%2Fi.imgur.com%2F49cxFH7.jpg%3Ffb&amp;amp;key=2aa3c4d5f3de4f5b9120b660ad850dc9&amp;amp;type=text%2Fhtml&amp;amp;schema=imgur&quot; width=&quot;600&quot; height=&quot;1122&quot; scrolling=&quot;no&quot; title=&quot;Imgur embed&quot; frameborder=&quot;0&quot; allow=&quot;autoplay; fullscreen&quot; allowfullscreen=&quot;true&quot;&amp;gt;&amp;lt;/iframe&amp;gt;&quot;,1122,null,false,600}</td><td>{{null,&quot;Post with 10 votes and 10 views. Shared by LovesDick35. .&quot;,1122,&quot;&amp;lt;iframe class=&quot;embedly-embed&quot; src=&quot;https://cdn.embedly.com/widgets/media.html?src=https%3A%2F%2Fimgur.com%2Fa%2F8zViwt2%2Fembed%3Fpub%3Dtrue%26ref%3Dhttps%253A%252F%252Fembed.ly%26w%3D900&amp;amp;display_name=Imgur&amp;amp;url=https%3A%2F%2Fimgur.com%2Fa%2F8zViwt2&amp;amp;image=https%3A%2F%2Fi.imgur.com%2F49cxFH7.jpg%3Ffb&amp;amp;key=2aa3c4d5f3de4f5b9120b660ad850dc9&amp;amp;type=text%2Fhtml&amp;amp;schema=imgur&quot; width=&quot;600&quot; height=&quot;1122&quot; scrolling=&quot;no&quot; title=&quot;Imgur embed&quot; frameborder=&quot;0&quot; allow=&quot;autoplay; fullscreen&quot; allowfullscreen=&quot;true&quot;&amp;gt;&amp;lt;/iframe&amp;gt;&quot;,&quot;Imgur&quot;,&quot;http://imgur.com&quot;,315,&quot;https://i.imgur.com/49cxFH7.jpg?fb&quot;,600,&quot;.&quot;,&quot;rich&quot;,&quot;https://imgur.com/a/8zViwt2&quot;,&quot;1.0&quot;,600,&quot;&quot;,null},&quot;imgur.com&quot;,null}</td><td>&quot;https://imgur.com/gallery/8zVi…</td><td>&quot;thumbnails/yski07.jpg&quot;</td><td>4.2</td><td>4.2</td><td>0.0</td><td>4.2</td><td>1</td></tr><tr><td>&quot;z4czi2&quot;</td><td>&quot;hudeyu&quot;</td><td>1669381675</td><td>&quot;truerateme&quot;</td><td>&quot;[F 31] Be as honest as possibl…</td><td>&quot;&quot;</td><td>{&quot;&amp;lt;iframe class=&quot;embedly-embed&quot; src=&quot;https://cdn.embedly.com/widgets/media.html?src=https%3A%2F%2Fimgur.com%2Fa%2FCOPvEQp%2Fembed%3Fpub%3Dtrue%26ref%3Dhttps%253A%252F%252Fembed.ly%26w%3D900&amp;amp;display_name=Imgur&amp;amp;url=https%3A%2F%2Fimgur.com%2Fa%2FCOPvEQp&amp;amp;image=https%3A%2F%2Fi.imgur.com%2F1WvOvVT.jpg%3Ffb&amp;amp;key=2aa3c4d5f3de4f5b9120b660ad850dc9&amp;amp;type=text%2Fhtml&amp;amp;schema=imgur&quot; width=&quot;600&quot; height=&quot;640&quot; scrolling=&quot;no&quot; title=&quot;Imgur embed&quot; frameborder=&quot;0&quot; allow=&quot;autoplay; fullscreen&quot; allowfullscreen=&quot;true&quot;&amp;gt;&amp;lt;/iframe&amp;gt;&quot;,640,null,false,600}</td><td>{{null,&quot;Post with 43 views.&quot;,640,&quot;&amp;lt;iframe class=&quot;embedly-embed&quot; src=&quot;https://cdn.embedly.com/widgets/media.html?src=https%3A%2F%2Fimgur.com%2Fa%2FCOPvEQp%2Fembed%3Fpub%3Dtrue%26ref%3Dhttps%253A%252F%252Fembed.ly%26w%3D900&amp;amp;display_name=Imgur&amp;amp;url=https%3A%2F%2Fimgur.com%2Fa%2FCOPvEQp&amp;amp;image=https%3A%2F%2Fi.imgur.com%2F1WvOvVT.jpg%3Ffb&amp;amp;key=2aa3c4d5f3de4f5b9120b660ad850dc9&amp;amp;type=text%2Fhtml&amp;amp;schema=imgur&quot; width=&quot;600&quot; height=&quot;640&quot; scrolling=&quot;no&quot; title=&quot;Imgur embed&quot; frameborder=&quot;0&quot; allow=&quot;autoplay; fullscreen&quot; allowfullscreen=&quot;true&quot;&amp;gt;&amp;lt;/iframe&amp;gt;&quot;,&quot;Imgur&quot;,&quot;http://imgur.com&quot;,315,&quot;https://i.imgur.com/1WvOvVT.jpg?fb&quot;,600,&quot;Imgur&quot;,&quot;rich&quot;,&quot;https://imgur.com/a/COPvEQp&quot;,&quot;1.0&quot;,600,null,null},&quot;imgur.com&quot;,null}</td><td>&quot;https://imgur.com/a/COPvEQp&quot;</td><td>&quot;thumbnails/z4czi2.jpg&quot;</td><td>4.840625</td><td>4.9</td><td>0.491706</td><td>4.965625</td><td>8</td></tr><tr><td>&quot;z9wck8&quot;</td><td>&quot;Mrarabush&quot;</td><td>1669921259</td><td>&quot;truerateme&quot;</td><td>&quot;27M. I think I’m a solid 4 or …</td><td>&quot;&quot;</td><td>{&quot;&amp;lt;iframe class=&quot;embedly-embed&quot; src=&quot;https://cdn.embedly.com/widgets/media.html?src=https%3A%2F%2Fimgur.com%2Fa%2F2Mbwt1F%2Fembed%3Fpub%3Dtrue%26ref%3Dhttps%253A%252F%252Fembed.ly%26w%3D900&amp;amp;display_name=Imgur&amp;amp;url=https%3A%2F%2Fimgur.com%2Fa%2F2Mbwt1F&amp;amp;image=https%3A%2F%2Fi.imgur.com%2Fj7pzioN.jpg%3Ffb&amp;amp;key=2aa3c4d5f3de4f5b9120b660ad850dc9&amp;amp;type=text%2Fhtml&amp;amp;schema=imgur&quot; width=&quot;600&quot; height=&quot;840&quot; scrolling=&quot;no&quot; title=&quot;Imgur embed&quot; frameborder=&quot;0&quot; allow=&quot;autoplay; fullscreen&quot; allowfullscreen=&quot;true&quot;&amp;gt;&amp;lt;/iframe&amp;gt;&quot;,840,null,false,600}</td><td>{{null,&quot;Post with 0 views.&quot;,840,&quot;&amp;lt;iframe class=&quot;embedly-embed&quot; src=&quot;https://cdn.embedly.com/widgets/media.html?src=https%3A%2F%2Fimgur.com%2Fa%2F2Mbwt1F%2Fembed%3Fpub%3Dtrue%26ref%3Dhttps%253A%252F%252Fembed.ly%26w%3D900&amp;amp;display_name=Imgur&amp;amp;url=https%3A%2F%2Fimgur.com%2Fa%2F2Mbwt1F&amp;amp;image=https%3A%2F%2Fi.imgur.com%2Fj7pzioN.jpg%3Ffb&amp;amp;key=2aa3c4d5f3de4f5b9120b660ad850dc9&amp;amp;type=text%2Fhtml&amp;amp;schema=imgur&quot; width=&quot;600&quot; height=&quot;840&quot; scrolling=&quot;no&quot; title=&quot;Imgur embed&quot; frameborder=&quot;0&quot; allow=&quot;autoplay; fullscreen&quot; allowfullscreen=&quot;true&quot;&amp;gt;&amp;lt;/iframe&amp;gt;&quot;,&quot;Imgur&quot;,&quot;http://imgur.com&quot;,315,&quot;https://i.imgur.com/j7pzioN.jpg?fb&quot;,600,&quot;Imgur&quot;,&quot;rich&quot;,&quot;https://imgur.com/a/2Mbwt1F&quot;,&quot;1.0&quot;,600,null,null},&quot;imgur.com&quot;,null}</td><td>&quot;https://imgur.com/a/2Mbwt1F&quot;</td><td>&quot;thumbnails/z9wck8.jpg&quot;</td><td>4.875</td><td>4.875</td><td>0.0</td><td>4.875</td><td>1</td></tr></tbody></table></div>"
      ],
      "text/plain": [
       "shape: (1_017, 15)\n",
       "┌────────┬────────────┬────────────┬───────────┬───┬───────────┬───────────┬───────────┬───────────┐\n",
       "│ id     ┆ author     ┆ created_ut ┆ subreddit ┆ … ┆ median_ra ┆ rating_st ┆ weighted_ ┆ rating_co │\n",
       "│ ---    ┆ ---        ┆ c          ┆ ---       ┆   ┆ ting      ┆ dev       ┆ rating    ┆ unt       │\n",
       "│ str    ┆ str        ┆ ---        ┆ str       ┆   ┆ ---       ┆ ---       ┆ ---       ┆ ---       │\n",
       "│        ┆            ┆ i64        ┆           ┆   ┆ f32       ┆ f32       ┆ f64       ┆ u32       │\n",
       "╞════════╪════════════╪════════════╪═══════════╪═══╪═══════════╪═══════════╪═══════════╪═══════════╡\n",
       "│ 6um2bk ┆ Josh_norma ┆ 1503103734 ┆ trueratem ┆ … ┆ 7.0       ┆ 1.141849  ┆ 6.838235  ┆ 9         │\n",
       "│        ┆ n05        ┆            ┆ e         ┆   ┆           ┆           ┆           ┆           │\n",
       "│ 6umpik ┆ PettingXu  ┆ 1503111646 ┆ trueratem ┆ … ┆ 7.125     ┆ 0.532197  ┆ 7.235632  ┆ 8         │\n",
       "│        ┆            ┆            ┆ e         ┆   ┆           ┆           ┆           ┆           │\n",
       "│ 6un283 ┆ Mr-Rushifa ┆ 1503116342 ┆ trueratem ┆ … ┆ 9.0       ┆ 0.68085   ┆ 8.543662  ┆ 22        │\n",
       "│        ┆            ┆            ┆ e         ┆   ┆           ┆           ┆           ┆           │\n",
       "│ 6un2v8 ┆ mindmonkey ┆ 1503116572 ┆ trueratem ┆ … ┆ 8.0       ┆ 2.37952   ┆ 7.166667  ┆ 10        │\n",
       "│        ┆ 00         ┆            ┆ e         ┆   ┆           ┆           ┆           ┆           │\n",
       "│ 6uprsr ┆ Zyros_     ┆ 1503157729 ┆ trueratem ┆ … ┆ 8.0       ┆ 0.98668   ┆ 7.995351  ┆ 19        │\n",
       "│        ┆            ┆            ┆ e         ┆   ┆           ┆           ┆           ┆           │\n",
       "│ …      ┆ …          ┆ …          ┆ …         ┆ … ┆ …         ┆ …         ┆ …         ┆ …         │\n",
       "│ ybb4pn ┆ Billnben__ ┆ 1666509829 ┆ trueratem ┆ … ┆ 6.1       ┆ 0.0       ┆ 6.1       ┆ 1         │\n",
       "│        ┆ 5          ┆            ┆ e         ┆   ┆           ┆           ┆           ┆           │\n",
       "│ yhuzth ┆ ElsaOutlaw ┆ 1667175103 ┆ trueratem ┆ … ┆ 5.0       ┆ 1.076904  ┆ 5.416667  ┆ 5         │\n",
       "│        ┆            ┆            ┆ e         ┆   ┆           ┆           ┆           ┆           │\n",
       "│ yski07 ┆ JustADumbT ┆ 1668195140 ┆ trueratem ┆ … ┆ 4.2       ┆ 0.0       ┆ 4.2       ┆ 1         │\n",
       "│        ┆ hrowAway2  ┆            ┆ e         ┆   ┆           ┆           ┆           ┆           │\n",
       "│ z4czi2 ┆ hudeyu     ┆ 1669381675 ┆ trueratem ┆ … ┆ 4.9       ┆ 0.491706  ┆ 4.965625  ┆ 8         │\n",
       "│        ┆            ┆            ┆ e         ┆   ┆           ┆           ┆           ┆           │\n",
       "│ z9wck8 ┆ Mrarabush  ┆ 1669921259 ┆ trueratem ┆ … ┆ 4.875     ┆ 0.0       ┆ 4.875     ┆ 1         │\n",
       "│        ┆            ┆            ┆ e         ┆   ┆           ┆           ┆           ┆           │\n",
       "└────────┴────────────┴────────────┴───────────┴───┴───────────┴───────────┴───────────┴───────────┘"
      ]
     },
     "execution_count": 30,
     "metadata": {},
     "output_type": "execute_result"
    }
   ],
   "source": [
    "# Filter out imgur image not found pics\n",
    "reddit_posts = reddit_posts.filter(\n",
    "    (pl.col(\"local_thumbnail_path\").map_elements(is_imgur_imagenotfound, pl.Boolean) == False)\n",
    ")\n",
    "\n",
    "reddit_posts.write_parquet(\"reddit_posts_rated.parquet\")\n",
    "reddit_posts"
   ]
  }
 ],
 "metadata": {
  "kernelspec": {
   "display_name": "Python 3 (ipykernel)",
   "language": "python",
   "name": "python3"
  },
  "language_info": {
   "codemirror_mode": {
    "name": "ipython",
    "version": 3
   },
   "file_extension": ".py",
   "mimetype": "text/x-python",
   "name": "python",
   "nbconvert_exporter": "python",
   "pygments_lexer": "ipython3",
   "version": "3.12.4"
  }
 },
 "nbformat": 4,
 "nbformat_minor": 2
}
