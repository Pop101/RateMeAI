{
 "cells": [
  {
   "cell_type": "code",
   "execution_count": null,
   "metadata": {},
   "outputs": [],
   "source": [
    "import polars as pl\n",
    "import seaborn as sns\n",
    "import matplotlib.pyplot as plt\n",
    "import numpy as np"
   ]
  },
  {
   "cell_type": "code",
   "execution_count": null,
   "metadata": {},
   "outputs": [],
   "source": [
    "df = pl.read_parquet(\"../reddit_posts_rated.parquet\")\n",
    "df"
   ]
  },
  {
   "cell_type": "code",
   "execution_count": null,
   "metadata": {},
   "outputs": [],
   "source": [
    "df['rating_stdev'].mean()"
   ]
  },
  {
   "cell_type": "code",
   "execution_count": null,
   "metadata": {},
   "outputs": [],
   "source": [
    "# side by side figs\n",
    "fig, axs = plt.subplots(1, 2, figsize=(8, 4))\n",
    "\n",
    "sns.histplot(df[\"mean_rating\"].to_list(), ax=axs[0])\n",
    "axs[0].set_title(\"Distribution of Mean Ratings\")\n",
    "axs[0].set_xlabel(\"Mean Rating\")\n",
    "axs[0].set_ylabel(\"Count\")\n",
    "axs[0].vlines(np.nanmedian(df[\"mean_rating\"].to_list()), 0, 120, color=\"red\")\n",
    "\n",
    "sns.histplot(df[\"weighted_rating\"].to_list(), ax=axs[1])\n",
    "axs[1].set_title(\"Distribution of Weighted Ratings\")\n",
    "axs[1].set_xlabel(\"Weighted Rating\")\n",
    "axs[1].set_ylabel(\"\")\n",
    "axs[1].vlines(np.nanmedian(df[\"weighted_rating\"].to_list()), 0, 120, color=\"red\")\n",
    "\n",
    "plt.tight_layout()\n",
    "plt.savefig(\"../.github/weighted_rating_distribution.png\")"
   ]
  },
  {
   "cell_type": "code",
   "execution_count": null,
   "metadata": {},
   "outputs": [],
   "source": [
    "sns.displot(x=df[\"median_rating\"].to_list(), y=df[\"weighted_rating\"].to_list())\n",
    "plt.title(\"Median Rating vs Weighted Rating\")\n",
    "plt.xlabel(\"Median Rating\")\n",
    "plt.ylabel(\"Weighted Rating\")\n",
    "plt.savefig(\"../.github/median_vs_weighted_rating.png\")"
   ]
  },
  {
   "cell_type": "code",
   "execution_count": null,
   "metadata": {},
   "outputs": [],
   "source": [
    "sns.displot(x=df[\"weighted_rating\"].to_list(), y=df[\"rating_count\"].to_list())\n",
    "plt.title(\"Weighted rating vs. Number of Ratings\")\n",
    "plt.xlabel(\"Weighted rating\")\n",
    "plt.ylabel(\"Number of Ratings\")\n",
    "plt.savefig(\"../.github/weighted_rating_vs_rating_count.png\")"
   ]
  }
 ],
 "metadata": {
  "kernelspec": {
   "display_name": "Python 3 (ipykernel)",
   "language": "python",
   "name": "python3"
  },
  "language_info": {
   "codemirror_mode": {
    "name": "ipython",
    "version": 3
   },
   "file_extension": ".py",
   "mimetype": "text/x-python",
   "name": "python",
   "nbconvert_exporter": "python",
   "pygments_lexer": "ipython3",
   "version": "3.12.4"
  }
 },
 "nbformat": 4,
 "nbformat_minor": 2
}
