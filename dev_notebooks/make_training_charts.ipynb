{
 "cells": [
  {
   "cell_type": "code",
   "execution_count": null,
   "metadata": {},
   "outputs": [],
   "source": [
    "import polars as pl\n",
    "import seaborn as sns\n",
    "import matplotlib.pyplot as plt"
   ]
  },
  {
   "cell_type": "markdown",
   "metadata": {},
   "source": []
  },
  {
   "cell_type": "code",
   "execution_count": null,
   "metadata": {},
   "outputs": [],
   "source": [
    "df = pl.read_csv(\"../models/losses.txt\", has_header=False)\n",
    "df.columns = [\"Batch\", \"Learning_Rate\", \"Train Loss\", \"Val Loss\", \"Val MSE\"]\n",
    "df"
   ]
  },
  {
   "cell_type": "code",
   "execution_count": null,
   "metadata": {},
   "outputs": [],
   "source": [
    "# df = df.filter(pl.col(\"Batch\") < 4000 )"
   ]
  },
  {
   "cell_type": "code",
   "execution_count": null,
   "metadata": {},
   "outputs": [],
   "source": [
    "plt.figure(figsize=(12, 6))\n",
    "\n",
    "# Create the line plot with Seaborn\n",
    "# Convert to Python native types for plotting\n",
    "sns.set_style(\"whitegrid\")\n",
    "sns.lineplot(x=df[\"Batch\"].to_list(), y=df[\"Train Loss\"].to_list(), marker='o', label=\"Train Loss\")\n",
    "sns.lineplot(x=df[\"Batch\"].to_list(), y=df[\"Val Loss\"].to_list(), marker='s', label=\"Val Loss\")\n",
    "sns.lineplot(x=df[\"Batch\"].to_list(), y=df[\"Val MSE\"].to_list(), marker='^', label=\"Val MSE\")\n",
    "\n",
    "# Add titles and labels\n",
    "plt.title(\"Training and Validation Metrics over Batchs\", fontsize=14)\n",
    "plt.xlabel(\"Batch\", fontsize=12)\n",
    "plt.ylabel(\"Loss / MSE\", fontsize=12)\n",
    "plt.legend(fontsize=10)\n",
    "\n",
    "# Show the plot\n",
    "plt.tight_layout()\n",
    "plt.show()"
   ]
  },
  {
   "cell_type": "code",
   "execution_count": null,
   "metadata": {},
   "outputs": [],
   "source": [
    "fig, ax1 = plt.subplots(figsize=(10, 6))\n",
    "\n",
    "# Plot Train Loss on the first y-axis\n",
    "color1 = 'tab:blue'\n",
    "ax1.set_xlabel('Batches', fontsize=12)\n",
    "ax1.set_ylabel('Train Loss', fontsize=12)\n",
    "line1 = ax1.plot(df[\"Batch\"].to_list(), df[\"Train Loss\"].to_list(), \n",
    "         marker='o', color=color1, linewidth=2, label=\"Train Loss\")\n",
    "ax1.tick_params(axis='y', labelcolor='black')  # Keep tick labels black\n",
    "\n",
    "# Create a second y-axis that shares the same x-axis\n",
    "ax2 = ax1.twinx()\n",
    "color2 = 'tab:red'\n",
    "ax2.set_ylabel('Val Loss', fontsize=12)\n",
    "line2 = ax2.plot(df[\"Batch\"].to_list(), df[\"Val Loss\"].to_list(), \n",
    "         marker='s', color=color2, linewidth=2, label=\"Val Loss\")\n",
    "ax2.tick_params(axis='y', labelcolor='black')  # Keep tick labels black\n",
    "\n",
    "# Add grid but only for one axis to avoid cluttering\n",
    "ax1.grid(True, alpha=0.3)\n",
    "\n",
    "# Add title\n",
    "plt.title(\"Training and Validation Loss over Batchs\", fontsize=14)\n",
    "\n",
    "# Create a single legend with both lines\n",
    "lines = line1 + line2\n",
    "labels = [l.get_label() for l in lines]\n",
    "ax1.legend(lines, labels, loc='upper right')\n",
    "\n",
    "# Adjust layout\n",
    "fig.tight_layout()\n",
    "plt.savefig(\"../.github/losses.png\", dpi=300)"
   ]
  }
 ],
 "metadata": {
  "kernelspec": {
   "display_name": "Python 3 (ipykernel)",
   "language": "python",
   "name": "python3"
  },
  "language_info": {
   "codemirror_mode": {
    "name": "ipython",
    "version": 3
   },
   "file_extension": ".py",
   "mimetype": "text/x-python",
   "name": "python",
   "nbconvert_exporter": "python",
   "pygments_lexer": "ipython3",
   "version": "3.12.4"
  }
 },
 "nbformat": 4,
 "nbformat_minor": 2
}
