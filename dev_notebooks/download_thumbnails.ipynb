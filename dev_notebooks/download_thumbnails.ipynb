{
 "cells": [
  {
   "cell_type": "code",
   "execution_count": null,
   "metadata": {},
   "outputs": [],
   "source": [
    "import os\n",
    "import zstandard\n",
    "import polars as pl\n",
    "import requests\n",
    "import json\n",
    "import tempfile\n",
    "import re"
   ]
  },
  {
   "cell_type": "code",
   "execution_count": null,
   "metadata": {},
   "outputs": [],
   "source": [
    "def download_process_zst(url:str) -> pl.DataFrame:    \n",
    "    # Create a temporary directory\n",
    "    with tempfile.TemporaryDirectory() as temp_dir:\n",
    "        # Download\n",
    "        response = requests.get(url)\n",
    "        zst_path = os.path.join(temp_dir, \"data.zst\")\n",
    "        with open(zst_path, 'wb') as f:\n",
    "            f.write(response.content)\n",
    "\n",
    "        # Decompress\n",
    "        json_path = os.path.join(temp_dir, \"data.jsonl\")\n",
    "        with open(zst_path, 'rb') as compressed_file:\n",
    "            with open(json_path, 'wb') as decompressed_file:\n",
    "                dctx = zstandard.ZstdDecompressor()\n",
    "                dctx.copy_stream(compressed_file, decompressed_file)\n",
    "\n",
    "        # File is in JSONL format\n",
    "        df = pl.read_ndjson(\n",
    "            json_path,\n",
    "            infer_schema_length=10000,\n",
    "            ignore_errors=True\n",
    "        )\n",
    "        \n",
    "    return df    \n",
    "\n",
    "print(\"Downloading and processing data...\")\n",
    "df = download_process_zst(\"https://the-eye.eu/redarcs/files/truerateme_submissions.zst\")\n",
    "print(df.columns)"
   ]
  },
  {
   "cell_type": "code",
   "execution_count": null,
   "metadata": {},
   "outputs": [],
   "source": [
    "# select only needed columns\n",
    "df = df.select([\n",
    "    \"id\", \"author\", \"created_utc\", \"subreddit\",         # metadata\n",
    "    \"title\", \"selftext\", \"media_embed\", \"media\", \"url\", # content\n",
    "])\n",
    "print(df.head(5))"
   ]
  },
  {
   "cell_type": "code",
   "execution_count": null,
   "metadata": {},
   "outputs": [],
   "source": [
    "# remove empty, removed, and delted posts\n",
    "df = df.filter(\n",
    "    (pl.col(\"media_embed\").is_not_null()) &\n",
    "    (pl.col(\"media\").is_not_null()) &\n",
    "    (pl.col(\"url\").is_not_null()) &\n",
    "    (pl.col(\"selftext\") != \"[removed]\") &\n",
    "    (pl.col(\"selftext\") != \"[deleted]\")\n",
    ")\n",
    "df"
   ]
  },
  {
   "cell_type": "code",
   "execution_count": null,
   "metadata": {},
   "outputs": [],
   "source": [
    "df['media'][0]"
   ]
  },
  {
   "cell_type": "code",
   "execution_count": null,
   "metadata": {},
   "outputs": [],
   "source": [
    "df['media'][0]['oembed']['thumbnail_url']"
   ]
  },
  {
   "cell_type": "code",
   "execution_count": null,
   "metadata": {},
   "outputs": [],
   "source": [
    "from requests.adapters import HTTPAdapter\n",
    "from requests.packages.urllib3.util.retry import Retry\n",
    "\n",
    "def download_thumbnail(url: str, path: str, max_retries=5):\n",
    "    # Configure retry strategy with backoff\n",
    "    retry_strategy = Retry(\n",
    "        total=max_retries,\n",
    "        backoff_factor=1,  # Exponential backoff: 1, 2, 4, 8, 16 seconds between retries\n",
    "        status_forcelist=[429, 500, 502, 503, 504],  # Retry on these status codes\n",
    "        allowed_methods=[\"GET\"]\n",
    "    )\n",
    "    \n",
    "    # Create a session with the retry strategy\n",
    "    session = requests.Session()\n",
    "    session.mount(\"https://\", HTTPAdapter(max_retries=retry_strategy))\n",
    "    session.mount(\"http://\", HTTPAdapter(max_retries=retry_strategy))\n",
    "    \n",
    "    # Add headers to make request more browser-like\n",
    "    headers = {\n",
    "        'User-Agent': 'Mozilla/5.0 (Windows NT 10.0; Win64; x64) AppleWebKit/537.36 (KHTML, like Gecko) Chrome/91.0.4472.124 Safari/537.36',\n",
    "        'Accept': 'image/webp,image/apng,image/*,*/*;q=0.8',\n",
    "        'Referer': 'https://imgur.com/'\n",
    "    }\n",
    "    \n",
    "    # Use the session to get the image with retries, redirects and headers\n",
    "    response = session.get(url, headers=headers, allow_redirects=True, timeout=30)\n",
    "    response.raise_for_status()\n",
    "    \n",
    "    # Create directory if needed\n",
    "    os.makedirs(os.path.dirname(path), exist_ok=True)\n",
    "    \n",
    "    # Write image to file\n",
    "    with open(path, 'wb') as f:\n",
    "        f.write(response.content)\n",
    "\n",
    "def remove_url_args(url:str):\n",
    "    return re.sub(r'\\?.*$', '', url)\n",
    "\n",
    "def is_img_url(url:str):\n",
    "    return url.lower().endswith(('.jpg', '.jpeg', '.png', '.gif', '.webp', '.bmp', '.tiff', '.svg'))"
   ]
  },
  {
   "cell_type": "code",
   "execution_count": null,
   "metadata": {},
   "outputs": [],
   "source": [
    "is_img_url(remove_url_args(df[0]['media'][0]['oembed']['thumbnail_url']))"
   ]
  },
  {
   "cell_type": "code",
   "execution_count": null,
   "metadata": {},
   "outputs": [],
   "source": [
    "df[0]['media'][0]"
   ]
  },
  {
   "cell_type": "code",
   "execution_count": null,
   "metadata": {},
   "outputs": [],
   "source": [
    "# Save df\n",
    "df.write_parquet(\"reddit_posts.parquet\")"
   ]
  },
  {
   "cell_type": "code",
   "execution_count": null,
   "metadata": {},
   "outputs": [],
   "source": [
    "download_thumbnail('https://i.imgur.com/t7QQzTW.jpg', './temp.jpg')"
   ]
  },
  {
   "cell_type": "code",
   "execution_count": null,
   "metadata": {},
   "outputs": [],
   "source": [
    "# Download all thumbnails in df, updating rows with the local path upon download\n",
    "# note that we write every step to parquet to avoid losing data\n",
    "# also we skip rows if file already exists\n",
    "if 'local_thumbnail_path' not in df.columns:\n",
    "    df = df.with_columns(pl.lit(\"\").alias('local_thumbnail_path'))\n",
    "\n",
    "df_view = df.clone()\n",
    "for idx, row in enumerate(df_view.iter_rows(named=True)):\n",
    "    # Extract thumbnail url\n",
    "    try:\n",
    "        thumbnail_url = row['media']['oembed']['thumbnail_url']\n",
    "    except (KeyError, TypeError):\n",
    "        continue\n",
    "    if thumbnail_url == None: continue\n",
    "    \n",
    "    clean_url = remove_url_args(thumbnail_url)\n",
    "    if not is_img_url(clean_url):  continue\n",
    "    \n",
    "    ext = os.path.splitext(clean_url)[1]\n",
    "    local_path = os.path.join(\"thumbnails\", f\"{row['id']}{ext}\")\n",
    "    \n",
    "    if os.path.exists(local_path): continue\n",
    "    \n",
    "    try:\n",
    "        download_thumbnail(clean_url, local_path)\n",
    "        df[idx, 'local_thumbnail_path'] = local_path\n",
    "        df.write_parquet(\"reddit_posts.parquet\")\n",
    "    except:\n",
    "        print(f\"Failed to download {clean_url}\")\n",
    "        continue\n",
    "\n",
    "df"
   ]
  }
 ],
 "metadata": {
  "kernelspec": {
   "display_name": "Python 3 (ipykernel)",
   "language": "python",
   "name": "python3"
  },
  "language_info": {
   "codemirror_mode": {
    "name": "ipython",
    "version": 3
   },
   "file_extension": ".py",
   "mimetype": "text/x-python",
   "name": "python",
   "nbconvert_exporter": "python",
   "pygments_lexer": "ipython3",
   "version": "3.12.4"
  }
 },
 "nbformat": 4,
 "nbformat_minor": 2
}
