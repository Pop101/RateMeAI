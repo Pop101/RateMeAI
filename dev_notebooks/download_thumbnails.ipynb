{
 "cells": [
  {
   "cell_type": "code",
   "execution_count": 1,
   "metadata": {},
   "outputs": [],
   "source": [
    "import os\n",
    "import zstandard\n",
    "import polars as pl\n",
    "import requests\n",
    "import json\n",
    "import tempfile\n",
    "import re"
   ]
  },
  {
   "cell_type": "code",
   "execution_count": 2,
   "metadata": {},
   "outputs": [
    {
     "name": "stdout",
     "output_type": "stream",
     "text": [
      "Downloading and processing data...\n",
      "['media', 'secure_media_embed', 'author_flair_type', 'link_flair_type', 'pwls', 'send_replies', 'media_only', 'media_embed', 'removal_reason', 'subreddit', 'hidden', 'post_categories', 'whitelist_status', 'link_flair_css_class', 'wls', 'score', 'num_reports', 'over_18', 'author', 'author_flair_richtext', 'contest_mode', 'approved_by', 'author_flair_css_class', 'author_flair_template_id', 'created', 'locked', 'name', 'permalink', 'selftext', 'is_self', 'distinguished', 'subreddit_type', 'suggested_sort', 'thumbnail', 'num_crossposts', 'hide_score', 'is_video', 'link_flair_text_color', 'num_comments', 'title', 'id', 'can_gild', 'author_flair_background_color', 'author_flair_text_color', 'likes', 'domain', 'link_flair_text', 'selftext_html', 'user_reports', 'clicked', 'url', 'report_reasons', 'thumbnail_height', 'is_original_content', 'downs', 'rte_mode', 'secure_media', 'parent_whitelist_status', 'is_crosspostable', 'pinned', 'archived', 'no_follow', 'gilded', 'category', 'created_utc', 'mod_reports', 'retrieved_on', 'edited', 'saved', 'stickied', 'subreddit_id', 'is_reddit_media_domain', 'content_categories', 'subreddit_subscribers', 'ups', 'link_flair_richtext', 'visited', 'spoiler', 'author_flair_text', 'banned_by', 'thumbnail_width', 'author_cakeday', 'brand_safe', 'post_hint', 'preview', 'crosspost_parent_list', 'crosspost_parent', 'mod_reason_title', 'mod_reason_by', 'mod_note', 'previous_visits', 'link_flair_background_color', 'media_metadata', 'can_mod_post', 'is_meta', 'link_flair_template_id', 'subreddit_name_prefixed', 'quarantine', 'author_fullname', 'author_created_utc', 'is_robot_indexable', 'author_patreon_flair', 'gildings']\n"
     ]
    }
   ],
   "source": [
    "def download_process_zst(url:str) -> pl.DataFrame:    \n",
    "    # Create a temporary directory\n",
    "    with tempfile.TemporaryDirectory() as temp_dir:\n",
    "        # Download\n",
    "        response = requests.get(url)\n",
    "        zst_path = os.path.join(temp_dir, \"data.zst\")\n",
    "        with open(zst_path, 'wb') as f:\n",
    "            f.write(response.content)\n",
    "\n",
    "        # Decompress\n",
    "        json_path = os.path.join(temp_dir, \"data.jsonl\")\n",
    "        with open(zst_path, 'rb') as compressed_file:\n",
    "            with open(json_path, 'wb') as decompressed_file:\n",
    "                dctx = zstandard.ZstdDecompressor()\n",
    "                dctx.copy_stream(compressed_file, decompressed_file)\n",
    "\n",
    "        # File is in JSONL format\n",
    "        df = pl.read_ndjson(\n",
    "            json_path,\n",
    "            infer_schema_length=10000,\n",
    "            ignore_errors=True\n",
    "        )\n",
    "        \n",
    "    return df    \n",
    "\n",
    "print(\"Downloading and processing data...\")\n",
    "df = download_process_zst(\"https://the-eye.eu/redarcs/files/truerateme_submissions.zst\")\n",
    "print(df.columns)"
   ]
  },
  {
   "cell_type": "code",
   "execution_count": 3,
   "metadata": {},
   "outputs": [
    {
     "name": "stdout",
     "output_type": "stream",
     "text": [
      "shape: (5, 9)\n",
      "┌────────┬────────────┬────────────┬───────────┬───┬───────────┬───────────┬───────────┬───────────┐\n",
      "│ id     ┆ author     ┆ created_ut ┆ subreddit ┆ … ┆ selftext  ┆ media_emb ┆ media     ┆ url       │\n",
      "│ ---    ┆ ---        ┆ c          ┆ ---       ┆   ┆ ---       ┆ ed        ┆ ---       ┆ ---       │\n",
      "│ str    ┆ str        ┆ ---        ┆ str       ┆   ┆ str       ┆ ---       ┆ struct[3] ┆ str       │\n",
      "│        ┆            ┆ i64        ┆           ┆   ┆           ┆ struct[5] ┆           ┆           │\n",
      "╞════════╪════════════╪════════════╪═══════════╪═══╪═══════════╪═══════════╪═══════════╪═══════════╡\n",
      "│ 6twkns ┆ Hereforthe ┆ 1502825794 ┆ trueratem ┆ … ┆ [removed] ┆ {null,nul ┆ null      ┆ https://w │\n",
      "│        ┆ kek        ┆            ┆ e         ┆   ┆           ┆ l,null,nu ┆           ┆ ww.reddit │\n",
      "│        ┆            ┆            ┆           ┆   ┆           ┆ ll,null}  ┆           ┆ .com/r/tr │\n",
      "│        ┆            ┆            ┆           ┆   ┆           ┆           ┆           ┆ uer…      │\n",
      "│ 6u7f16 ┆ kalkush    ┆ 1502941319 ┆ trueratem ┆ … ┆ **You'll  ┆ {null,nul ┆ null      ┆ https://w │\n",
      "│        ┆            ┆            ┆ e         ┆   ┆ find that ┆ l,null,nu ┆           ┆ ww.reddit │\n",
      "│        ┆            ┆            ┆           ┆   ┆ in other  ┆ ll,null}  ┆           ┆ .com/r/tr │\n",
      "│        ┆            ┆            ┆           ┆   ┆ su…       ┆           ┆           ┆ uer…      │\n",
      "│ 6u7jht ┆ kalkush    ┆ 1502942796 ┆ trueratem ┆ … ┆ [removed] ┆ {null,nul ┆ null      ┆ https://w │\n",
      "│        ┆            ┆            ┆ e         ┆   ┆           ┆ l,null,nu ┆           ┆ ww.reddit │\n",
      "│        ┆            ┆            ┆           ┆   ┆           ┆ ll,null}  ┆           ┆ .com/r/tr │\n",
      "│        ┆            ┆            ┆           ┆   ┆           ┆           ┆           ┆ uer…      │\n",
      "│ 6u9dkw ┆ throwitawa ┆ 1502969875 ┆ trueratem ┆ … ┆           ┆ {null,nul ┆ null      ┆ https://i │\n",
      "│        ┆ ythekey    ┆            ┆ e         ┆   ┆           ┆ l,null,nu ┆           ┆ .redd.it/ │\n",
      "│        ┆            ┆            ┆           ┆   ┆           ┆ ll,null}  ┆           ┆ kn6rd52bb │\n",
      "│        ┆            ┆            ┆           ┆   ┆           ┆           ┆           ┆ agz…      │\n",
      "│ 6u9qug ┆ [deleted]  ┆ 1502974366 ┆ trueratem ┆ … ┆ [deleted] ┆ {null,nul ┆ null      ┆ http://[M │\n",
      "│        ┆            ┆            ┆ e         ┆   ┆           ┆ l,null,nu ┆           ┆ 20] Rate  │\n",
      "│        ┆            ┆            ┆           ┆   ┆           ┆ ll,null}  ┆           ┆ Me        │\n",
      "└────────┴────────────┴────────────┴───────────┴───┴───────────┴───────────┴───────────┴───────────┘\n"
     ]
    }
   ],
   "source": [
    "# select only needed columns\n",
    "df = df.select([\n",
    "    \"id\", \"author\", \"created_utc\", \"subreddit\",         # metadata\n",
    "    \"title\", \"selftext\", \"media_embed\", \"media\", \"url\", # content\n",
    "])\n",
    "print(df.head(5))"
   ]
  },
  {
   "cell_type": "code",
   "execution_count": 4,
   "metadata": {},
   "outputs": [
    {
     "data": {
      "text/html": [
       "<div><style>\n",
       ".dataframe > thead > tr,\n",
       ".dataframe > tbody > tr {\n",
       "  text-align: right;\n",
       "  white-space: pre-wrap;\n",
       "}\n",
       "</style>\n",
       "<small>shape: (2_573, 9)</small><table border=\"1\" class=\"dataframe\"><thead><tr><th>id</th><th>author</th><th>created_utc</th><th>subreddit</th><th>title</th><th>selftext</th><th>media_embed</th><th>media</th><th>url</th></tr><tr><td>str</td><td>str</td><td>i64</td><td>str</td><td>str</td><td>str</td><td>struct[5]</td><td>struct[3]</td><td>str</td></tr></thead><tbody><tr><td>&quot;6um2bk&quot;</td><td>&quot;Josh_norman05&quot;</td><td>1503103734</td><td>&quot;truerateme&quot;</td><td>&quot;[21M] Rateme, I&#x27;m 6&#x27;1&quot; and 200…</td><td>&quot;&quot;</td><td>{&quot;&amp;lt;iframe class=&quot;embedly-embed&quot; src=&quot;//cdn.embedly.com/widgets/media.html?src=%2F%2Fimgur.com%2Fa%2Fv2xU7%2Fembed&amp;amp;url=http%3A%2F%2Fimgur.com%2Fa%2Fv2xU7&amp;amp;image=http%3A%2F%2Fi.imgur.com%2FpCLxBv8.jpg%3Ffb&amp;amp;key=522baf40bd3911e08d854040d3dc5c07&amp;amp;type=text%2Fhtml&amp;amp;schema=imgur&quot; width=&quot;550&quot; height=&quot;550&quot; scrolling=&quot;no&quot; frameborder=&quot;0&quot; allowfullscreen&amp;gt;&amp;lt;/iframe&amp;gt;&quot;,550,null,false,550}</td><td>{{null,&quot;Imgur: The most awesome images on the Internet.&quot;,550,&quot;&amp;lt;iframe class=&quot;embedly-embed&quot; src=&quot;//cdn.embedly.com/widgets/media.html?src=%2F%2Fimgur.com%2Fa%2Fv2xU7%2Fembed&amp;amp;url=http%3A%2F%2Fimgur.com%2Fa%2Fv2xU7&amp;amp;image=http%3A%2F%2Fi.imgur.com%2FpCLxBv8.jpg%3Ffb&amp;amp;key=522baf40bd3911e08d854040d3dc5c07&amp;amp;type=text%2Fhtml&amp;amp;schema=imgur&quot; width=&quot;550&quot; height=&quot;550&quot; scrolling=&quot;no&quot; frameborder=&quot;0&quot; allowfullscreen&amp;gt;&amp;lt;/iframe&amp;gt;&quot;,&quot;Imgur&quot;,&quot;http://imgur.com&quot;,315,&quot;http://i.imgur.com/pCLxBv8.jpg?fb&quot;,600,&quot;Imgur: The most awesome images on the Internet&quot;,&quot;rich&quot;,null,&quot;1.0&quot;,550,null,null},&quot;imgur.com&quot;,null}</td><td>&quot;http://imgur.com/a/v2xU7&quot;</td></tr><tr><td>&quot;6umpik&quot;</td><td>&quot;PettingXu&quot;</td><td>1503111646</td><td>&quot;truerateme&quot;</td><td>&quot;M23 tear me a new one guys&quot;</td><td>&quot;&quot;</td><td>{&quot;&amp;lt;iframe class=&quot;embedly-embed&quot; src=&quot;//cdn.embedly.com/widgets/media.html?src=%2F%2Fimgur.com%2Fa%2F2loQ6%2Fembed&amp;amp;url=https%3A%2F%2Fimgur.com%2Fa%2F2loQ6&amp;amp;image=http%3A%2F%2Fi.imgur.com%2F7HP3ftQ.jpg%3Ffb&amp;amp;key=522baf40bd3911e08d854040d3dc5c07&amp;amp;type=text%2Fhtml&amp;amp;schema=imgur&quot; width=&quot;550&quot; height=&quot;550&quot; scrolling=&quot;no&quot; frameborder=&quot;0&quot; allowfullscreen&amp;gt;&amp;lt;/iframe&amp;gt;&quot;,550,null,false,550}</td><td>{{null,&quot;Imgur: The most awesome images on the Internet.&quot;,550,&quot;&amp;lt;iframe class=&quot;embedly-embed&quot; src=&quot;//cdn.embedly.com/widgets/media.html?src=%2F%2Fimgur.com%2Fa%2F2loQ6%2Fembed&amp;amp;url=https%3A%2F%2Fimgur.com%2Fa%2F2loQ6&amp;amp;image=http%3A%2F%2Fi.imgur.com%2F7HP3ftQ.jpg%3Ffb&amp;amp;key=522baf40bd3911e08d854040d3dc5c07&amp;amp;type=text%2Fhtml&amp;amp;schema=imgur&quot; width=&quot;550&quot; height=&quot;550&quot; scrolling=&quot;no&quot; frameborder=&quot;0&quot; allowfullscreen&amp;gt;&amp;lt;/iframe&amp;gt;&quot;,&quot;Imgur&quot;,&quot;http://imgur.com&quot;,315,&quot;http://i.imgur.com/7HP3ftQ.jpg?fb&quot;,600,&quot;Reddit Rateme&quot;,&quot;rich&quot;,null,&quot;1.0&quot;,550,null,null},&quot;m.imgur.com&quot;,null}</td><td>&quot;https://m.imgur.com/a/2loQ6&quot;</td></tr><tr><td>&quot;6un283&quot;</td><td>&quot;Mr-Rushifa&quot;</td><td>1503116342</td><td>&quot;truerateme&quot;</td><td>&quot;[22M] 6&#x27;6&quot; Was told to post he…</td><td>&quot;&quot;</td><td>{&quot;&amp;lt;iframe class=&quot;embedly-embed&quot; src=&quot;//cdn.embedly.com/widgets/media.html?src=%2F%2Fimgur.com%2Fa%2FD0rJP%2Fembed&amp;amp;url=https%3A%2F%2Fimgur.com%2Fa%2FD0rJP&amp;amp;image=http%3A%2F%2Fi.imgur.com%2FHkIQCm5.jpg%3Ffb&amp;amp;key=2aa3c4d5f3de4f5b9120b660ad850dc9&amp;amp;type=text%2Fhtml&amp;amp;schema=imgur&quot; width=&quot;550&quot; height=&quot;550&quot; scrolling=&quot;no&quot; frameborder=&quot;0&quot; allowfullscreen&amp;gt;&amp;lt;/iframe&amp;gt;&quot;,550,null,false,550}</td><td>{{null,&quot;Imgur: The most awesome images on the Internet.&quot;,550,&quot;&amp;lt;iframe class=&quot;embedly-embed&quot; src=&quot;//cdn.embedly.com/widgets/media.html?src=%2F%2Fimgur.com%2Fa%2FD0rJP%2Fembed&amp;amp;url=https%3A%2F%2Fimgur.com%2Fa%2FD0rJP&amp;amp;image=http%3A%2F%2Fi.imgur.com%2FHkIQCm5.jpg%3Ffb&amp;amp;key=2aa3c4d5f3de4f5b9120b660ad850dc9&amp;amp;type=text%2Fhtml&amp;amp;schema=imgur&quot; width=&quot;550&quot; height=&quot;550&quot; scrolling=&quot;no&quot; frameborder=&quot;0&quot; allowfullscreen&amp;gt;&amp;lt;/iframe&amp;gt;&quot;,&quot;Imgur&quot;,&quot;http://imgur.com&quot;,315,&quot;http://i.imgur.com/HkIQCm5.jpg?fb&quot;,600,&quot;Gallery&quot;,&quot;rich&quot;,null,&quot;1.0&quot;,550,null,null},&quot;imgur.com&quot;,null}</td><td>&quot;https://imgur.com/a/D0rJP&quot;</td></tr><tr><td>&quot;6un2v8&quot;</td><td>&quot;mindmonkey00&quot;</td><td>1503116572</td><td>&quot;truerateme&quot;</td><td>&quot;[M 23] Rate my ginger ass and …</td><td>&quot;&quot;</td><td>{&quot;&amp;lt;iframe class=&quot;embedly-embed&quot; src=&quot;//cdn.embedly.com/widgets/media.html?src=%2F%2Fimgur.com%2Fa%2FRa0M6%2Fembed&amp;amp;url=https%3A%2F%2Fimgur.com%2Fa%2FRa0M6&amp;amp;image=http%3A%2F%2Fi.imgur.com%2FESsgdIW.jpg%3Ffb&amp;amp;key=522baf40bd3911e08d854040d3dc5c07&amp;amp;type=text%2Fhtml&amp;amp;schema=imgur&quot; width=&quot;550&quot; height=&quot;550&quot; scrolling=&quot;no&quot; frameborder=&quot;0&quot; allowfullscreen&amp;gt;&amp;lt;/iframe&amp;gt;&quot;,550,null,false,550}</td><td>{{null,&quot;Imgur: The most awesome images on the Internet.&quot;,550,&quot;&amp;lt;iframe class=&quot;embedly-embed&quot; src=&quot;//cdn.embedly.com/widgets/media.html?src=%2F%2Fimgur.com%2Fa%2FRa0M6%2Fembed&amp;amp;url=https%3A%2F%2Fimgur.com%2Fa%2FRa0M6&amp;amp;image=http%3A%2F%2Fi.imgur.com%2FESsgdIW.jpg%3Ffb&amp;amp;key=522baf40bd3911e08d854040d3dc5c07&amp;amp;type=text%2Fhtml&amp;amp;schema=imgur&quot; width=&quot;550&quot; height=&quot;550&quot; scrolling=&quot;no&quot; frameborder=&quot;0&quot; allowfullscreen&amp;gt;&amp;lt;/iframe&amp;gt;&quot;,&quot;Imgur&quot;,&quot;http://imgur.com&quot;,315,&quot;http://i.imgur.com/ESsgdIW.jpg?fb&quot;,600,&quot;Imgur: The most awesome images on the Internet&quot;,&quot;rich&quot;,null,&quot;1.0&quot;,550,null,null},&quot;imgur.com&quot;,null}</td><td>&quot;https://imgur.com/a/Ra0M6&quot;</td></tr><tr><td>&quot;6uohb4&quot;</td><td>&quot;will_wolfy&quot;</td><td>1503140753</td><td>&quot;truerateme&quot;</td><td>&quot;[18M] Just woke up, tell me ho…</td><td>&quot;&quot;</td><td>{&quot;&amp;lt;iframe class=&quot;embedly-embed&quot; src=&quot;//cdn.embedly.com/widgets/media.html?src=%2F%2Fimgur.com%2Fa%2FIY7ek%2Fembed&amp;amp;url=https%3A%2F%2Fimgur.com%2Fa%2FIY7ek&amp;amp;image=http%3A%2F%2Fi.imgur.com%2FFhXj4Cr.jpg%3Ffb&amp;amp;key=522baf40bd3911e08d854040d3dc5c07&amp;amp;type=text%2Fhtml&amp;amp;schema=imgur&quot; width=&quot;550&quot; height=&quot;550&quot; scrolling=&quot;no&quot; frameborder=&quot;0&quot; allowfullscreen&amp;gt;&amp;lt;/iframe&amp;gt;&quot;,550,null,false,550}</td><td>{{null,&quot;Imgur: The most awesome images on the Internet.&quot;,550,&quot;&amp;lt;iframe class=&quot;embedly-embed&quot; src=&quot;//cdn.embedly.com/widgets/media.html?src=%2F%2Fimgur.com%2Fa%2FIY7ek%2Fembed&amp;amp;url=https%3A%2F%2Fimgur.com%2Fa%2FIY7ek&amp;amp;image=http%3A%2F%2Fi.imgur.com%2FFhXj4Cr.jpg%3Ffb&amp;amp;key=522baf40bd3911e08d854040d3dc5c07&amp;amp;type=text%2Fhtml&amp;amp;schema=imgur&quot; width=&quot;550&quot; height=&quot;550&quot; scrolling=&quot;no&quot; frameborder=&quot;0&quot; allowfullscreen&amp;gt;&amp;lt;/iframe&amp;gt;&quot;,&quot;Imgur&quot;,&quot;http://imgur.com&quot;,315,&quot;http://i.imgur.com/FhXj4Cr.jpg?fb&quot;,600,&quot;r/truerateme&quot;,&quot;rich&quot;,null,&quot;1.0&quot;,550,null,null},&quot;imgur.com&quot;,null}</td><td>&quot;https://imgur.com/a/IY7ek&quot;</td></tr><tr><td>&hellip;</td><td>&hellip;</td><td>&hellip;</td><td>&hellip;</td><td>&hellip;</td><td>&hellip;</td><td>&hellip;</td><td>&hellip;</td><td>&hellip;</td></tr><tr><td>&quot;zuls6m&quot;</td><td>&quot;Anpava&quot;</td><td>1671925266</td><td>&quot;truerateme&quot;</td><td>&quot;I actually just wanted to wish…</td><td>&quot;&quot;</td><td>{null,null,null,null,null}</td><td>{null,null,{&quot;https://v.redd.it/c9q1lwcdlx7a1/DASHPlaylist.mpd?a=1675766290%2COTRjMmQ5NzMxMjAwNzBmMWQ1ODRlNzVhOGEyMTlkNTAxNTVhNmI5NTNmNGI1N2UwMzU3NjgxNjkxY2MxMWI5Zg%3D%3D&amp;amp;v=1&amp;amp;f=sd&quot;,7,&quot;https://v.redd.it/c9q1lwcdlx7a1/DASH_1080.mp4?source=fallback&quot;,1080,&quot;https://v.redd.it/c9q1lwcdlx7a1/HLSPlaylist.m3u8?a=1675766290%2CMDgyMGU2MTM4YzQ0YTBhNjY3NzVmMzRmNmRlYmQ1MThmODczZTMzNWY1Y2Q4YTVhY2EwZThmYzQyNzhhNjI4YQ%3D%3D&amp;amp;v=1&amp;amp;f=sd&quot;,false,&quot;https://v.redd.it/c9q1lwcdlx7a1/DASH_96.mp4&quot;,&quot;completed&quot;,608}}</td><td>&quot;https://v.redd.it/c9q1lwcdlx7a…</td></tr><tr><td>&quot;zv249i&quot;</td><td>&quot;podwithoutapea&quot;</td><td>1671988469</td><td>&quot;truerateme&quot;</td><td>&quot;22F, back again with a video t…</td><td>&quot;&quot;</td><td>{null,null,null,null,null}</td><td>{null,null,{&quot;https://v.redd.it/dvm8orq4c48a1/DASHPlaylist.mpd?a=1675765747%2CNGI0NDdkZTMwODQ3MTZjNjAxNWViNDhmZjg3ZWFmMmVmYjIwMTY0OWUwMjIyNTQ0MTQwMWE2MTJhYWU5NjliZQ%3D%3D&amp;amp;v=1&amp;amp;f=sd&quot;,11,&quot;https://v.redd.it/dvm8orq4c48a1/DASH_1080.mp4?source=fallback&quot;,1080,&quot;https://v.redd.it/dvm8orq4c48a1/HLSPlaylist.m3u8?a=1675765747%2CNDg3YmQ4MjNiZGQ2NTY0MjA1MzIyMTI0ZjJmZjUxYzUxYTJhN2I4NjI4MDJkN2UwYTI0ZGY5NGI0NzM3OGY0Ng%3D%3D&amp;amp;v=1&amp;amp;f=sd&quot;,false,&quot;https://v.redd.it/dvm8orq4c48a1/DASH_96.mp4&quot;,&quot;completed&quot;,580}}</td><td>&quot;https://v.redd.it/dvm8orq4c48a…</td></tr><tr><td>&quot;zziswh&quot;</td><td>&quot;Comfortable_Gear2354&quot;</td><td>1672453329</td><td>&quot;truerateme&quot;</td><td>&quot;pyt and onlyfans freak hmu for…</td><td>&quot;&quot;</td><td>{null,null,null,null,null}</td><td>{null,null,{&quot;https://v.redd.it/alxo4lw7q69a1/DASHPlaylist.mpd?a=1675760489%2CZGQ5YzVkYWJiMjU2MDM3NTlkZDM3MGUwZWEyZTk5MDk3YzhmM2I1MTA0MDU2YzY0YmNhZjhjNWNjMzZmMDgwYw%3D%3D&amp;amp;v=1&amp;amp;f=sd&quot;,97,&quot;https://v.redd.it/alxo4lw7q69a1/DASH_1080.mp4?source=fallback&quot;,1080,&quot;https://v.redd.it/alxo4lw7q69a1/HLSPlaylist.m3u8?a=1675760489%2CMmNjZWM2NjI3YTU1MDhhNmJiMzhkNDQ5M2EyOWJlNDBlOWMwZjdhNGQ2Y2I2M2EwMTk2OTk5MjZmZTMwODEyYQ%3D%3D&amp;amp;v=1&amp;amp;f=sd&quot;,false,&quot;https://v.redd.it/alxo4lw7q69a1/DASH_96.mp4&quot;,&quot;completed&quot;,608}}</td><td>&quot;https://v.redd.it/alxo4lw7q69a…</td></tr><tr><td>&quot;zzm09y&quot;</td><td>&quot;Tjbenz&quot;</td><td>1672463105</td><td>&quot;truerateme&quot;</td><td>&quot;31M&quot;</td><td>&quot;&quot;</td><td>{&quot;&amp;lt;iframe width=&quot;356&quot; height=&quot;200&quot; src=&quot;https://www.youtube.com/embed/gOV8AoGzYPU?feature=oembed&amp;amp;enablejsapi=1&quot; frameborder=&quot;0&quot; allow=&quot;accelerometer; autoplay; clipboard-write; encrypted-media; gyroscope; picture-in-picture&quot; allowfullscreen title=&quot;TJ BENZ- Song Cry (Jay-Z Remix) Official Rap Music Video&quot;&amp;gt;&amp;lt;/iframe&amp;gt;&quot;,200,null,false,356}</td><td>{{null,null,200,&quot;&amp;lt;iframe width=&quot;356&quot; height=&quot;200&quot; src=&quot;https://www.youtube.com/embed/gOV8AoGzYPU?feature=oembed&amp;amp;enablejsapi=1&quot; frameborder=&quot;0&quot; allow=&quot;accelerometer; autoplay; clipboard-write; encrypted-media; gyroscope; picture-in-picture&quot; allowfullscreen title=&quot;TJ BENZ- Song Cry (Jay-Z Remix) Official Rap Music Video&quot;&amp;gt;&amp;lt;/iframe&amp;gt;&quot;,&quot;YouTube&quot;,&quot;https://www.youtube.com/&quot;,360,&quot;https://i.ytimg.com/vi/gOV8AoGzYPU/hqdefault.jpg&quot;,480,&quot;TJ BENZ- Song Cry (Jay-Z Remix) Official Rap Music Video&quot;,&quot;video&quot;,null,&quot;1.0&quot;,356,&quot;TJBENZ&quot;,&quot;https://www.youtube.com/@TJBENZ&quot;},&quot;youtube.com&quot;,null}</td><td>&quot;https://youtu.be/gOV8AoGzYPU&quot;</td></tr><tr><td>&quot;1000xs9&quot;</td><td>&quot;Ambitious_Rate_2023&quot;</td><td>1672512860</td><td>&quot;truerateme&quot;</td><td>&quot;Harry Potter world 🌎&quot;</td><td>&quot;&quot;</td><td>{null,null,null,null,null}</td><td>{null,null,{&quot;https://v.redd.it/22s7ruht5a9a1/DASHPlaylist.mpd?a=1675759883%2CNmU0NzNlNjFkYzg3ODI0MTk3YTMwNWIzMDQ3ZDEyYzI0YjYyNmVjZDFiNWU3OGJmMDdjZTNhMDQ0MTZkYmE3Ng%3D%3D&amp;amp;v=1&amp;amp;f=sd&quot;,13,&quot;https://v.redd.it/22s7ruht5a9a1/DASH_720.mp4?source=fallback&quot;,720,&quot;https://v.redd.it/22s7ruht5a9a1/HLSPlaylist.m3u8?a=1675759883%2CYWYxMzIxMWQ1ZDMxMmQwNjliNGEyOWU4Mzc2NmYwMDlkYWE0MmZlMTNhNGE4N2VmYzI2ZDhhZWI4MTg1OGVmYw%3D%3D&amp;amp;v=1&amp;amp;f=sd&quot;,true,&quot;https://v.redd.it/22s7ruht5a9a1/DASH_96.mp4&quot;,&quot;completed&quot;,406}}</td><td>&quot;https://v.redd.it/22s7ruht5a9a…</td></tr></tbody></table></div>"
      ],
      "text/plain": [
       "shape: (2_573, 9)\n",
       "┌─────────┬────────────┬────────────┬───────────┬───┬──────────┬───────────┬───────────┬───────────┐\n",
       "│ id      ┆ author     ┆ created_ut ┆ subreddit ┆ … ┆ selftext ┆ media_emb ┆ media     ┆ url       │\n",
       "│ ---     ┆ ---        ┆ c          ┆ ---       ┆   ┆ ---      ┆ ed        ┆ ---       ┆ ---       │\n",
       "│ str     ┆ str        ┆ ---        ┆ str       ┆   ┆ str      ┆ ---       ┆ struct[3] ┆ str       │\n",
       "│         ┆            ┆ i64        ┆           ┆   ┆          ┆ struct[5] ┆           ┆           │\n",
       "╞═════════╪════════════╪════════════╪═══════════╪═══╪══════════╪═══════════╪═══════════╪═══════════╡\n",
       "│ 6um2bk  ┆ Josh_norma ┆ 1503103734 ┆ trueratem ┆ … ┆          ┆ {\"&lt;ifr ┆ {{null,\"I ┆ http://im │\n",
       "│         ┆ n05        ┆            ┆ e         ┆   ┆          ┆ ame class ┆ mgur: The ┆ gur.com/a │\n",
       "│         ┆            ┆            ┆           ┆   ┆          ┆ =\"embedly ┆ most      ┆ /v2xU7    │\n",
       "│         ┆            ┆            ┆           ┆   ┆          ┆ -em…      ┆ awesom…   ┆           │\n",
       "│ 6umpik  ┆ PettingXu  ┆ 1503111646 ┆ trueratem ┆ … ┆          ┆ {\"&lt;ifr ┆ {{null,\"I ┆ https://m │\n",
       "│         ┆            ┆            ┆ e         ┆   ┆          ┆ ame class ┆ mgur: The ┆ .imgur.co │\n",
       "│         ┆            ┆            ┆           ┆   ┆          ┆ =\"embedly ┆ most      ┆ m/a/2loQ6 │\n",
       "│         ┆            ┆            ┆           ┆   ┆          ┆ -em…      ┆ awesom…   ┆           │\n",
       "│ 6un283  ┆ Mr-Rushifa ┆ 1503116342 ┆ trueratem ┆ … ┆          ┆ {\"&lt;ifr ┆ {{null,\"I ┆ https://i │\n",
       "│         ┆            ┆            ┆ e         ┆   ┆          ┆ ame class ┆ mgur: The ┆ mgur.com/ │\n",
       "│         ┆            ┆            ┆           ┆   ┆          ┆ =\"embedly ┆ most      ┆ a/D0rJP   │\n",
       "│         ┆            ┆            ┆           ┆   ┆          ┆ -em…      ┆ awesom…   ┆           │\n",
       "│ 6un2v8  ┆ mindmonkey ┆ 1503116572 ┆ trueratem ┆ … ┆          ┆ {\"&lt;ifr ┆ {{null,\"I ┆ https://i │\n",
       "│         ┆ 00         ┆            ┆ e         ┆   ┆          ┆ ame class ┆ mgur: The ┆ mgur.com/ │\n",
       "│         ┆            ┆            ┆           ┆   ┆          ┆ =\"embedly ┆ most      ┆ a/Ra0M6   │\n",
       "│         ┆            ┆            ┆           ┆   ┆          ┆ -em…      ┆ awesom…   ┆           │\n",
       "│ 6uohb4  ┆ will_wolfy ┆ 1503140753 ┆ trueratem ┆ … ┆          ┆ {\"&lt;ifr ┆ {{null,\"I ┆ https://i │\n",
       "│         ┆            ┆            ┆ e         ┆   ┆          ┆ ame class ┆ mgur: The ┆ mgur.com/ │\n",
       "│         ┆            ┆            ┆           ┆   ┆          ┆ =\"embedly ┆ most      ┆ a/IY7ek   │\n",
       "│         ┆            ┆            ┆           ┆   ┆          ┆ -em…      ┆ awesom…   ┆           │\n",
       "│ …       ┆ …          ┆ …          ┆ …         ┆ … ┆ …        ┆ …         ┆ …         ┆ …         │\n",
       "│ zuls6m  ┆ Anpava     ┆ 1671925266 ┆ trueratem ┆ … ┆          ┆ {null,nul ┆ {null,nul ┆ https://v │\n",
       "│         ┆            ┆            ┆ e         ┆   ┆          ┆ l,null,nu ┆ l,{\"https ┆ .redd.it/ │\n",
       "│         ┆            ┆            ┆           ┆   ┆          ┆ ll,null}  ┆ ://v.redd ┆ c9q1lwcdl │\n",
       "│         ┆            ┆            ┆           ┆   ┆          ┆           ┆ .it…      ┆ x7a…      │\n",
       "│ zv249i  ┆ podwithout ┆ 1671988469 ┆ trueratem ┆ … ┆          ┆ {null,nul ┆ {null,nul ┆ https://v │\n",
       "│         ┆ apea       ┆            ┆ e         ┆   ┆          ┆ l,null,nu ┆ l,{\"https ┆ .redd.it/ │\n",
       "│         ┆            ┆            ┆           ┆   ┆          ┆ ll,null}  ┆ ://v.redd ┆ dvm8orq4c │\n",
       "│         ┆            ┆            ┆           ┆   ┆          ┆           ┆ .it…      ┆ 48a…      │\n",
       "│ zziswh  ┆ Comfortabl ┆ 1672453329 ┆ trueratem ┆ … ┆          ┆ {null,nul ┆ {null,nul ┆ https://v │\n",
       "│         ┆ e_Gear2354 ┆            ┆ e         ┆   ┆          ┆ l,null,nu ┆ l,{\"https ┆ .redd.it/ │\n",
       "│         ┆            ┆            ┆           ┆   ┆          ┆ ll,null}  ┆ ://v.redd ┆ alxo4lw7q │\n",
       "│         ┆            ┆            ┆           ┆   ┆          ┆           ┆ .it…      ┆ 69a…      │\n",
       "│ zzm09y  ┆ Tjbenz     ┆ 1672463105 ┆ trueratem ┆ … ┆          ┆ {\"&lt;ifr ┆ {{null,nu ┆ https://y │\n",
       "│         ┆            ┆            ┆ e         ┆   ┆          ┆ ame width ┆ ll,200,\"& ┆ outu.be/g │\n",
       "│         ┆            ┆            ┆           ┆   ┆          ┆ =\"356\"    ┆ lt;iframe ┆ OV8AoGzYP │\n",
       "│         ┆            ┆            ┆           ┆   ┆          ┆ heigh…    ┆ wi…       ┆ U         │\n",
       "│ 1000xs9 ┆ Ambitious_ ┆ 1672512860 ┆ trueratem ┆ … ┆          ┆ {null,nul ┆ {null,nul ┆ https://v │\n",
       "│         ┆ Rate_2023  ┆            ┆ e         ┆   ┆          ┆ l,null,nu ┆ l,{\"https ┆ .redd.it/ │\n",
       "│         ┆            ┆            ┆           ┆   ┆          ┆ ll,null}  ┆ ://v.redd ┆ 22s7ruht5 │\n",
       "│         ┆            ┆            ┆           ┆   ┆          ┆           ┆ .it…      ┆ a9a…      │\n",
       "└─────────┴────────────┴────────────┴───────────┴───┴──────────┴───────────┴───────────┴───────────┘"
      ]
     },
     "execution_count": 4,
     "metadata": {},
     "output_type": "execute_result"
    }
   ],
   "source": [
    "# remove empty, removed, and delted posts\n",
    "df = df.filter(\n",
    "    (pl.col(\"media_embed\").is_not_null()) &\n",
    "    (pl.col(\"media\").is_not_null()) &\n",
    "    (pl.col(\"url\").is_not_null()) &\n",
    "    (pl.col(\"selftext\") != \"[removed]\") &\n",
    "    (pl.col(\"selftext\") != \"[deleted]\")\n",
    ")\n",
    "df"
   ]
  },
  {
   "cell_type": "code",
   "execution_count": 5,
   "metadata": {},
   "outputs": [
    {
     "data": {
      "text/plain": [
       "{'oembed': {'cache_age': None,\n",
       "  'description': 'Imgur: The most awesome images on the Internet.',\n",
       "  'height': 550,\n",
       "  'html': '&lt;iframe class=\"embedly-embed\" src=\"//cdn.embedly.com/widgets/media.html?src=%2F%2Fimgur.com%2Fa%2Fv2xU7%2Fembed&amp;url=http%3A%2F%2Fimgur.com%2Fa%2Fv2xU7&amp;image=http%3A%2F%2Fi.imgur.com%2FpCLxBv8.jpg%3Ffb&amp;key=522baf40bd3911e08d854040d3dc5c07&amp;type=text%2Fhtml&amp;schema=imgur\" width=\"550\" height=\"550\" scrolling=\"no\" frameborder=\"0\" allowfullscreen&gt;&lt;/iframe&gt;',\n",
       "  'provider_name': 'Imgur',\n",
       "  'provider_url': 'http://imgur.com',\n",
       "  'thumbnail_height': 315,\n",
       "  'thumbnail_url': 'http://i.imgur.com/pCLxBv8.jpg?fb',\n",
       "  'thumbnail_width': 600,\n",
       "  'title': 'Imgur: The most awesome images on the Internet',\n",
       "  'type': 'rich',\n",
       "  'url': None,\n",
       "  'version': '1.0',\n",
       "  'width': 550,\n",
       "  'author_name': None,\n",
       "  'author_url': None},\n",
       " 'type': 'imgur.com',\n",
       " 'reddit_video': None}"
      ]
     },
     "execution_count": 5,
     "metadata": {},
     "output_type": "execute_result"
    }
   ],
   "source": [
    "df['media'][0]"
   ]
  },
  {
   "cell_type": "code",
   "execution_count": 6,
   "metadata": {},
   "outputs": [
    {
     "data": {
      "text/plain": [
       "'http://i.imgur.com/pCLxBv8.jpg?fb'"
      ]
     },
     "execution_count": 6,
     "metadata": {},
     "output_type": "execute_result"
    }
   ],
   "source": [
    "df['media'][0]['oembed']['thumbnail_url']"
   ]
  },
  {
   "cell_type": "code",
   "execution_count": 14,
   "metadata": {},
   "outputs": [],
   "source": [
    "from requests.adapters import HTTPAdapter\n",
    "from requests.packages.urllib3.util.retry import Retry\n",
    "\n",
    "def download_thumbnail(url: str, path: str, max_retries=5):\n",
    "    # Configure retry strategy with backoff\n",
    "    retry_strategy = Retry(\n",
    "        total=max_retries,\n",
    "        backoff_factor=1,  # Exponential backoff: 1, 2, 4, 8, 16 seconds between retries\n",
    "        status_forcelist=[429, 500, 502, 503, 504],  # Retry on these status codes\n",
    "        allowed_methods=[\"GET\"]\n",
    "    )\n",
    "    \n",
    "    # Create a session with the retry strategy\n",
    "    session = requests.Session()\n",
    "    session.mount(\"https://\", HTTPAdapter(max_retries=retry_strategy))\n",
    "    session.mount(\"http://\", HTTPAdapter(max_retries=retry_strategy))\n",
    "    \n",
    "    # Add headers to make request more browser-like\n",
    "    headers = {\n",
    "        'User-Agent': 'Mozilla/5.0 (Windows NT 10.0; Win64; x64) AppleWebKit/537.36 (KHTML, like Gecko) Chrome/91.0.4472.124 Safari/537.36',\n",
    "        'Accept': 'image/webp,image/apng,image/*,*/*;q=0.8',\n",
    "        'Referer': 'https://imgur.com/'\n",
    "    }\n",
    "    \n",
    "    # Use the session to get the image with retries, redirects and headers\n",
    "    response = session.get(url, headers=headers, allow_redirects=True, timeout=30)\n",
    "    response.raise_for_status()\n",
    "    \n",
    "    # Create directory if needed\n",
    "    os.makedirs(os.path.dirname(path), exist_ok=True)\n",
    "    \n",
    "    # Write image to file\n",
    "    with open(path, 'wb') as f:\n",
    "        f.write(response.content)\n",
    "\n",
    "def remove_url_args(url:str):\n",
    "    return re.sub(r'\\?.*$', '', url)\n",
    "\n",
    "def is_img_url(url:str):\n",
    "    return url.lower().endswith(('.jpg', '.jpeg', '.png', '.gif', '.webp', '.bmp', '.tiff', '.svg'))"
   ]
  },
  {
   "cell_type": "code",
   "execution_count": 15,
   "metadata": {},
   "outputs": [
    {
     "data": {
      "text/plain": [
       "True"
      ]
     },
     "execution_count": 15,
     "metadata": {},
     "output_type": "execute_result"
    }
   ],
   "source": [
    "is_img_url(remove_url_args(df[0]['media'][0]['oembed']['thumbnail_url']))"
   ]
  },
  {
   "cell_type": "code",
   "execution_count": 16,
   "metadata": {},
   "outputs": [
    {
     "data": {
      "text/plain": [
       "{'oembed': {'cache_age': None,\n",
       "  'description': 'Imgur: The most awesome images on the Internet.',\n",
       "  'height': 550,\n",
       "  'html': '&lt;iframe class=\"embedly-embed\" src=\"//cdn.embedly.com/widgets/media.html?src=%2F%2Fimgur.com%2Fa%2Fv2xU7%2Fembed&amp;url=http%3A%2F%2Fimgur.com%2Fa%2Fv2xU7&amp;image=http%3A%2F%2Fi.imgur.com%2FpCLxBv8.jpg%3Ffb&amp;key=522baf40bd3911e08d854040d3dc5c07&amp;type=text%2Fhtml&amp;schema=imgur\" width=\"550\" height=\"550\" scrolling=\"no\" frameborder=\"0\" allowfullscreen&gt;&lt;/iframe&gt;',\n",
       "  'provider_name': 'Imgur',\n",
       "  'provider_url': 'http://imgur.com',\n",
       "  'thumbnail_height': 315,\n",
       "  'thumbnail_url': 'http://i.imgur.com/pCLxBv8.jpg?fb',\n",
       "  'thumbnail_width': 600,\n",
       "  'title': 'Imgur: The most awesome images on the Internet',\n",
       "  'type': 'rich',\n",
       "  'url': None,\n",
       "  'version': '1.0',\n",
       "  'width': 550,\n",
       "  'author_name': None,\n",
       "  'author_url': None},\n",
       " 'type': 'imgur.com',\n",
       " 'reddit_video': None}"
      ]
     },
     "execution_count": 16,
     "metadata": {},
     "output_type": "execute_result"
    }
   ],
   "source": [
    "df[0]['media'][0]"
   ]
  },
  {
   "cell_type": "code",
   "execution_count": 17,
   "metadata": {},
   "outputs": [],
   "source": [
    "# Save df\n",
    "df.write_parquet(\"reddit_posts.parquet\")"
   ]
  },
  {
   "cell_type": "code",
   "execution_count": 19,
   "metadata": {},
   "outputs": [],
   "source": [
    "download_thumbnail('https://i.imgur.com/t7QQzTW.jpg', './temp.jpg')"
   ]
  },
  {
   "cell_type": "code",
   "execution_count": 21,
   "metadata": {},
   "outputs": [
    {
     "name": "stdout",
     "output_type": "stream",
     "text": [
      "Failed to download https://d1wst0behutosd.cloudfront.net/videos/13470266/thumb.jpg\n",
      "Failed to download https://i.ytimg.com/vi/gjr52rhaXuY/hqdefault.jpg\n",
      "Failed to download https://thumbs.gfycat.com/FaintFrightenedGemsbuck-size_restricted.gif\n",
      "Failed to download https://i.ytimg.com/vi/4XAYjZapSiA/hqdefault.jpg\n",
      "Failed to download https://i.ytimg.com/vi/9vDG4xWZM3Q/hqdefault.jpg\n",
      "Failed to download https://cdn-b-east.streamable.com/image/ekz8c.jpg\n",
      "Failed to download https://thumbs.gfycat.com/MajesticFabulousIrishsetter-size_restricted.gif\n",
      "Failed to download https://cdn-b-east.streamable.com/image/dev4l.jpg\n",
      "Failed to download https://i.ytimg.com/vi/dyTe7jOF6yM/hqdefault.jpg\n",
      "Failed to download https://i.ytimg.com/vi/VBuXYAj8up4/hqdefault.jpg\n",
      "Failed to download https://i.ytimg.com/vi/IAw8XtzKKqM/hqdefault.jpg\n",
      "Failed to download https://thumbs.gfycat.com/SmugKindheartedBluewhale-size_restricted.gif\n",
      "Failed to download https://i.ytimg.com/vi/8WIVqq0vqp0/hqdefault.jpg\n",
      "Failed to download https://i.ytimg.com/vi/8WIVqq0vqp0/hqdefault.jpg\n",
      "Failed to download https://thumbs2.redgifs.com/UnwieldyKeyAndalusianhorse-mobile.jpg\n",
      "Failed to download https://thumbs2.redgifs.com/ImpossibleAverageRagfish-mobile.jpg\n",
      "Failed to download https://i.ytimg.com/vi/kA-7zamtMSg/hqdefault.jpg\n"
     ]
    },
    {
     "data": {
      "text/html": [
       "<div><style>\n",
       ".dataframe > thead > tr,\n",
       ".dataframe > tbody > tr {\n",
       "  text-align: right;\n",
       "  white-space: pre-wrap;\n",
       "}\n",
       "</style>\n",
       "<small>shape: (2_573, 10)</small><table border=\"1\" class=\"dataframe\"><thead><tr><th>id</th><th>author</th><th>created_utc</th><th>subreddit</th><th>title</th><th>selftext</th><th>media_embed</th><th>media</th><th>url</th><th>local_thumbnail_path</th></tr><tr><td>str</td><td>str</td><td>i64</td><td>str</td><td>str</td><td>str</td><td>struct[5]</td><td>struct[3]</td><td>str</td><td>str</td></tr></thead><tbody><tr><td>&quot;6um2bk&quot;</td><td>&quot;Josh_norman05&quot;</td><td>1503103734</td><td>&quot;truerateme&quot;</td><td>&quot;[21M] Rateme, I&#x27;m 6&#x27;1&quot; and 200…</td><td>&quot;&quot;</td><td>{&quot;&amp;lt;iframe class=&quot;embedly-embed&quot; src=&quot;//cdn.embedly.com/widgets/media.html?src=%2F%2Fimgur.com%2Fa%2Fv2xU7%2Fembed&amp;amp;url=http%3A%2F%2Fimgur.com%2Fa%2Fv2xU7&amp;amp;image=http%3A%2F%2Fi.imgur.com%2FpCLxBv8.jpg%3Ffb&amp;amp;key=522baf40bd3911e08d854040d3dc5c07&amp;amp;type=text%2Fhtml&amp;amp;schema=imgur&quot; width=&quot;550&quot; height=&quot;550&quot; scrolling=&quot;no&quot; frameborder=&quot;0&quot; allowfullscreen&amp;gt;&amp;lt;/iframe&amp;gt;&quot;,550,null,false,550}</td><td>{{null,&quot;Imgur: The most awesome images on the Internet.&quot;,550,&quot;&amp;lt;iframe class=&quot;embedly-embed&quot; src=&quot;//cdn.embedly.com/widgets/media.html?src=%2F%2Fimgur.com%2Fa%2Fv2xU7%2Fembed&amp;amp;url=http%3A%2F%2Fimgur.com%2Fa%2Fv2xU7&amp;amp;image=http%3A%2F%2Fi.imgur.com%2FpCLxBv8.jpg%3Ffb&amp;amp;key=522baf40bd3911e08d854040d3dc5c07&amp;amp;type=text%2Fhtml&amp;amp;schema=imgur&quot; width=&quot;550&quot; height=&quot;550&quot; scrolling=&quot;no&quot; frameborder=&quot;0&quot; allowfullscreen&amp;gt;&amp;lt;/iframe&amp;gt;&quot;,&quot;Imgur&quot;,&quot;http://imgur.com&quot;,315,&quot;http://i.imgur.com/pCLxBv8.jpg?fb&quot;,600,&quot;Imgur: The most awesome images on the Internet&quot;,&quot;rich&quot;,null,&quot;1.0&quot;,550,null,null},&quot;imgur.com&quot;,null}</td><td>&quot;http://imgur.com/a/v2xU7&quot;</td><td>&quot;thumbnails/6um2bk.jpg&quot;</td></tr><tr><td>&quot;6umpik&quot;</td><td>&quot;PettingXu&quot;</td><td>1503111646</td><td>&quot;truerateme&quot;</td><td>&quot;M23 tear me a new one guys&quot;</td><td>&quot;&quot;</td><td>{&quot;&amp;lt;iframe class=&quot;embedly-embed&quot; src=&quot;//cdn.embedly.com/widgets/media.html?src=%2F%2Fimgur.com%2Fa%2F2loQ6%2Fembed&amp;amp;url=https%3A%2F%2Fimgur.com%2Fa%2F2loQ6&amp;amp;image=http%3A%2F%2Fi.imgur.com%2F7HP3ftQ.jpg%3Ffb&amp;amp;key=522baf40bd3911e08d854040d3dc5c07&amp;amp;type=text%2Fhtml&amp;amp;schema=imgur&quot; width=&quot;550&quot; height=&quot;550&quot; scrolling=&quot;no&quot; frameborder=&quot;0&quot; allowfullscreen&amp;gt;&amp;lt;/iframe&amp;gt;&quot;,550,null,false,550}</td><td>{{null,&quot;Imgur: The most awesome images on the Internet.&quot;,550,&quot;&amp;lt;iframe class=&quot;embedly-embed&quot; src=&quot;//cdn.embedly.com/widgets/media.html?src=%2F%2Fimgur.com%2Fa%2F2loQ6%2Fembed&amp;amp;url=https%3A%2F%2Fimgur.com%2Fa%2F2loQ6&amp;amp;image=http%3A%2F%2Fi.imgur.com%2F7HP3ftQ.jpg%3Ffb&amp;amp;key=522baf40bd3911e08d854040d3dc5c07&amp;amp;type=text%2Fhtml&amp;amp;schema=imgur&quot; width=&quot;550&quot; height=&quot;550&quot; scrolling=&quot;no&quot; frameborder=&quot;0&quot; allowfullscreen&amp;gt;&amp;lt;/iframe&amp;gt;&quot;,&quot;Imgur&quot;,&quot;http://imgur.com&quot;,315,&quot;http://i.imgur.com/7HP3ftQ.jpg?fb&quot;,600,&quot;Reddit Rateme&quot;,&quot;rich&quot;,null,&quot;1.0&quot;,550,null,null},&quot;m.imgur.com&quot;,null}</td><td>&quot;https://m.imgur.com/a/2loQ6&quot;</td><td>&quot;thumbnails/6umpik.jpg&quot;</td></tr><tr><td>&quot;6un283&quot;</td><td>&quot;Mr-Rushifa&quot;</td><td>1503116342</td><td>&quot;truerateme&quot;</td><td>&quot;[22M] 6&#x27;6&quot; Was told to post he…</td><td>&quot;&quot;</td><td>{&quot;&amp;lt;iframe class=&quot;embedly-embed&quot; src=&quot;//cdn.embedly.com/widgets/media.html?src=%2F%2Fimgur.com%2Fa%2FD0rJP%2Fembed&amp;amp;url=https%3A%2F%2Fimgur.com%2Fa%2FD0rJP&amp;amp;image=http%3A%2F%2Fi.imgur.com%2FHkIQCm5.jpg%3Ffb&amp;amp;key=2aa3c4d5f3de4f5b9120b660ad850dc9&amp;amp;type=text%2Fhtml&amp;amp;schema=imgur&quot; width=&quot;550&quot; height=&quot;550&quot; scrolling=&quot;no&quot; frameborder=&quot;0&quot; allowfullscreen&amp;gt;&amp;lt;/iframe&amp;gt;&quot;,550,null,false,550}</td><td>{{null,&quot;Imgur: The most awesome images on the Internet.&quot;,550,&quot;&amp;lt;iframe class=&quot;embedly-embed&quot; src=&quot;//cdn.embedly.com/widgets/media.html?src=%2F%2Fimgur.com%2Fa%2FD0rJP%2Fembed&amp;amp;url=https%3A%2F%2Fimgur.com%2Fa%2FD0rJP&amp;amp;image=http%3A%2F%2Fi.imgur.com%2FHkIQCm5.jpg%3Ffb&amp;amp;key=2aa3c4d5f3de4f5b9120b660ad850dc9&amp;amp;type=text%2Fhtml&amp;amp;schema=imgur&quot; width=&quot;550&quot; height=&quot;550&quot; scrolling=&quot;no&quot; frameborder=&quot;0&quot; allowfullscreen&amp;gt;&amp;lt;/iframe&amp;gt;&quot;,&quot;Imgur&quot;,&quot;http://imgur.com&quot;,315,&quot;http://i.imgur.com/HkIQCm5.jpg?fb&quot;,600,&quot;Gallery&quot;,&quot;rich&quot;,null,&quot;1.0&quot;,550,null,null},&quot;imgur.com&quot;,null}</td><td>&quot;https://imgur.com/a/D0rJP&quot;</td><td>&quot;thumbnails/6un283.jpg&quot;</td></tr><tr><td>&quot;6un2v8&quot;</td><td>&quot;mindmonkey00&quot;</td><td>1503116572</td><td>&quot;truerateme&quot;</td><td>&quot;[M 23] Rate my ginger ass and …</td><td>&quot;&quot;</td><td>{&quot;&amp;lt;iframe class=&quot;embedly-embed&quot; src=&quot;//cdn.embedly.com/widgets/media.html?src=%2F%2Fimgur.com%2Fa%2FRa0M6%2Fembed&amp;amp;url=https%3A%2F%2Fimgur.com%2Fa%2FRa0M6&amp;amp;image=http%3A%2F%2Fi.imgur.com%2FESsgdIW.jpg%3Ffb&amp;amp;key=522baf40bd3911e08d854040d3dc5c07&amp;amp;type=text%2Fhtml&amp;amp;schema=imgur&quot; width=&quot;550&quot; height=&quot;550&quot; scrolling=&quot;no&quot; frameborder=&quot;0&quot; allowfullscreen&amp;gt;&amp;lt;/iframe&amp;gt;&quot;,550,null,false,550}</td><td>{{null,&quot;Imgur: The most awesome images on the Internet.&quot;,550,&quot;&amp;lt;iframe class=&quot;embedly-embed&quot; src=&quot;//cdn.embedly.com/widgets/media.html?src=%2F%2Fimgur.com%2Fa%2FRa0M6%2Fembed&amp;amp;url=https%3A%2F%2Fimgur.com%2Fa%2FRa0M6&amp;amp;image=http%3A%2F%2Fi.imgur.com%2FESsgdIW.jpg%3Ffb&amp;amp;key=522baf40bd3911e08d854040d3dc5c07&amp;amp;type=text%2Fhtml&amp;amp;schema=imgur&quot; width=&quot;550&quot; height=&quot;550&quot; scrolling=&quot;no&quot; frameborder=&quot;0&quot; allowfullscreen&amp;gt;&amp;lt;/iframe&amp;gt;&quot;,&quot;Imgur&quot;,&quot;http://imgur.com&quot;,315,&quot;http://i.imgur.com/ESsgdIW.jpg?fb&quot;,600,&quot;Imgur: The most awesome images on the Internet&quot;,&quot;rich&quot;,null,&quot;1.0&quot;,550,null,null},&quot;imgur.com&quot;,null}</td><td>&quot;https://imgur.com/a/Ra0M6&quot;</td><td>&quot;thumbnails/6un2v8.jpg&quot;</td></tr><tr><td>&quot;6uohb4&quot;</td><td>&quot;will_wolfy&quot;</td><td>1503140753</td><td>&quot;truerateme&quot;</td><td>&quot;[18M] Just woke up, tell me ho…</td><td>&quot;&quot;</td><td>{&quot;&amp;lt;iframe class=&quot;embedly-embed&quot; src=&quot;//cdn.embedly.com/widgets/media.html?src=%2F%2Fimgur.com%2Fa%2FIY7ek%2Fembed&amp;amp;url=https%3A%2F%2Fimgur.com%2Fa%2FIY7ek&amp;amp;image=http%3A%2F%2Fi.imgur.com%2FFhXj4Cr.jpg%3Ffb&amp;amp;key=522baf40bd3911e08d854040d3dc5c07&amp;amp;type=text%2Fhtml&amp;amp;schema=imgur&quot; width=&quot;550&quot; height=&quot;550&quot; scrolling=&quot;no&quot; frameborder=&quot;0&quot; allowfullscreen&amp;gt;&amp;lt;/iframe&amp;gt;&quot;,550,null,false,550}</td><td>{{null,&quot;Imgur: The most awesome images on the Internet.&quot;,550,&quot;&amp;lt;iframe class=&quot;embedly-embed&quot; src=&quot;//cdn.embedly.com/widgets/media.html?src=%2F%2Fimgur.com%2Fa%2FIY7ek%2Fembed&amp;amp;url=https%3A%2F%2Fimgur.com%2Fa%2FIY7ek&amp;amp;image=http%3A%2F%2Fi.imgur.com%2FFhXj4Cr.jpg%3Ffb&amp;amp;key=522baf40bd3911e08d854040d3dc5c07&amp;amp;type=text%2Fhtml&amp;amp;schema=imgur&quot; width=&quot;550&quot; height=&quot;550&quot; scrolling=&quot;no&quot; frameborder=&quot;0&quot; allowfullscreen&amp;gt;&amp;lt;/iframe&amp;gt;&quot;,&quot;Imgur&quot;,&quot;http://imgur.com&quot;,315,&quot;http://i.imgur.com/FhXj4Cr.jpg?fb&quot;,600,&quot;r/truerateme&quot;,&quot;rich&quot;,null,&quot;1.0&quot;,550,null,null},&quot;imgur.com&quot;,null}</td><td>&quot;https://imgur.com/a/IY7ek&quot;</td><td>&quot;thumbnails/6uohb4.jpg&quot;</td></tr><tr><td>&hellip;</td><td>&hellip;</td><td>&hellip;</td><td>&hellip;</td><td>&hellip;</td><td>&hellip;</td><td>&hellip;</td><td>&hellip;</td><td>&hellip;</td><td>&hellip;</td></tr><tr><td>&quot;zuls6m&quot;</td><td>&quot;Anpava&quot;</td><td>1671925266</td><td>&quot;truerateme&quot;</td><td>&quot;I actually just wanted to wish…</td><td>&quot;&quot;</td><td>{null,null,null,null,null}</td><td>{null,null,{&quot;https://v.redd.it/c9q1lwcdlx7a1/DASHPlaylist.mpd?a=1675766290%2COTRjMmQ5NzMxMjAwNzBmMWQ1ODRlNzVhOGEyMTlkNTAxNTVhNmI5NTNmNGI1N2UwMzU3NjgxNjkxY2MxMWI5Zg%3D%3D&amp;amp;v=1&amp;amp;f=sd&quot;,7,&quot;https://v.redd.it/c9q1lwcdlx7a1/DASH_1080.mp4?source=fallback&quot;,1080,&quot;https://v.redd.it/c9q1lwcdlx7a1/HLSPlaylist.m3u8?a=1675766290%2CMDgyMGU2MTM4YzQ0YTBhNjY3NzVmMzRmNmRlYmQ1MThmODczZTMzNWY1Y2Q4YTVhY2EwZThmYzQyNzhhNjI4YQ%3D%3D&amp;amp;v=1&amp;amp;f=sd&quot;,false,&quot;https://v.redd.it/c9q1lwcdlx7a1/DASH_96.mp4&quot;,&quot;completed&quot;,608}}</td><td>&quot;https://v.redd.it/c9q1lwcdlx7a…</td><td>&quot;&quot;</td></tr><tr><td>&quot;zv249i&quot;</td><td>&quot;podwithoutapea&quot;</td><td>1671988469</td><td>&quot;truerateme&quot;</td><td>&quot;22F, back again with a video t…</td><td>&quot;&quot;</td><td>{null,null,null,null,null}</td><td>{null,null,{&quot;https://v.redd.it/dvm8orq4c48a1/DASHPlaylist.mpd?a=1675765747%2CNGI0NDdkZTMwODQ3MTZjNjAxNWViNDhmZjg3ZWFmMmVmYjIwMTY0OWUwMjIyNTQ0MTQwMWE2MTJhYWU5NjliZQ%3D%3D&amp;amp;v=1&amp;amp;f=sd&quot;,11,&quot;https://v.redd.it/dvm8orq4c48a1/DASH_1080.mp4?source=fallback&quot;,1080,&quot;https://v.redd.it/dvm8orq4c48a1/HLSPlaylist.m3u8?a=1675765747%2CNDg3YmQ4MjNiZGQ2NTY0MjA1MzIyMTI0ZjJmZjUxYzUxYTJhN2I4NjI4MDJkN2UwYTI0ZGY5NGI0NzM3OGY0Ng%3D%3D&amp;amp;v=1&amp;amp;f=sd&quot;,false,&quot;https://v.redd.it/dvm8orq4c48a1/DASH_96.mp4&quot;,&quot;completed&quot;,580}}</td><td>&quot;https://v.redd.it/dvm8orq4c48a…</td><td>&quot;&quot;</td></tr><tr><td>&quot;zziswh&quot;</td><td>&quot;Comfortable_Gear2354&quot;</td><td>1672453329</td><td>&quot;truerateme&quot;</td><td>&quot;pyt and onlyfans freak hmu for…</td><td>&quot;&quot;</td><td>{null,null,null,null,null}</td><td>{null,null,{&quot;https://v.redd.it/alxo4lw7q69a1/DASHPlaylist.mpd?a=1675760489%2CZGQ5YzVkYWJiMjU2MDM3NTlkZDM3MGUwZWEyZTk5MDk3YzhmM2I1MTA0MDU2YzY0YmNhZjhjNWNjMzZmMDgwYw%3D%3D&amp;amp;v=1&amp;amp;f=sd&quot;,97,&quot;https://v.redd.it/alxo4lw7q69a1/DASH_1080.mp4?source=fallback&quot;,1080,&quot;https://v.redd.it/alxo4lw7q69a1/HLSPlaylist.m3u8?a=1675760489%2CMmNjZWM2NjI3YTU1MDhhNmJiMzhkNDQ5M2EyOWJlNDBlOWMwZjdhNGQ2Y2I2M2EwMTk2OTk5MjZmZTMwODEyYQ%3D%3D&amp;amp;v=1&amp;amp;f=sd&quot;,false,&quot;https://v.redd.it/alxo4lw7q69a1/DASH_96.mp4&quot;,&quot;completed&quot;,608}}</td><td>&quot;https://v.redd.it/alxo4lw7q69a…</td><td>&quot;&quot;</td></tr><tr><td>&quot;zzm09y&quot;</td><td>&quot;Tjbenz&quot;</td><td>1672463105</td><td>&quot;truerateme&quot;</td><td>&quot;31M&quot;</td><td>&quot;&quot;</td><td>{&quot;&amp;lt;iframe width=&quot;356&quot; height=&quot;200&quot; src=&quot;https://www.youtube.com/embed/gOV8AoGzYPU?feature=oembed&amp;amp;enablejsapi=1&quot; frameborder=&quot;0&quot; allow=&quot;accelerometer; autoplay; clipboard-write; encrypted-media; gyroscope; picture-in-picture&quot; allowfullscreen title=&quot;TJ BENZ- Song Cry (Jay-Z Remix) Official Rap Music Video&quot;&amp;gt;&amp;lt;/iframe&amp;gt;&quot;,200,null,false,356}</td><td>{{null,null,200,&quot;&amp;lt;iframe width=&quot;356&quot; height=&quot;200&quot; src=&quot;https://www.youtube.com/embed/gOV8AoGzYPU?feature=oembed&amp;amp;enablejsapi=1&quot; frameborder=&quot;0&quot; allow=&quot;accelerometer; autoplay; clipboard-write; encrypted-media; gyroscope; picture-in-picture&quot; allowfullscreen title=&quot;TJ BENZ- Song Cry (Jay-Z Remix) Official Rap Music Video&quot;&amp;gt;&amp;lt;/iframe&amp;gt;&quot;,&quot;YouTube&quot;,&quot;https://www.youtube.com/&quot;,360,&quot;https://i.ytimg.com/vi/gOV8AoGzYPU/hqdefault.jpg&quot;,480,&quot;TJ BENZ- Song Cry (Jay-Z Remix) Official Rap Music Video&quot;,&quot;video&quot;,null,&quot;1.0&quot;,356,&quot;TJBENZ&quot;,&quot;https://www.youtube.com/@TJBENZ&quot;},&quot;youtube.com&quot;,null}</td><td>&quot;https://youtu.be/gOV8AoGzYPU&quot;</td><td>&quot;thumbnails/zzm09y.jpg&quot;</td></tr><tr><td>&quot;1000xs9&quot;</td><td>&quot;Ambitious_Rate_2023&quot;</td><td>1672512860</td><td>&quot;truerateme&quot;</td><td>&quot;Harry Potter world 🌎&quot;</td><td>&quot;&quot;</td><td>{null,null,null,null,null}</td><td>{null,null,{&quot;https://v.redd.it/22s7ruht5a9a1/DASHPlaylist.mpd?a=1675759883%2CNmU0NzNlNjFkYzg3ODI0MTk3YTMwNWIzMDQ3ZDEyYzI0YjYyNmVjZDFiNWU3OGJmMDdjZTNhMDQ0MTZkYmE3Ng%3D%3D&amp;amp;v=1&amp;amp;f=sd&quot;,13,&quot;https://v.redd.it/22s7ruht5a9a1/DASH_720.mp4?source=fallback&quot;,720,&quot;https://v.redd.it/22s7ruht5a9a1/HLSPlaylist.m3u8?a=1675759883%2CYWYxMzIxMWQ1ZDMxMmQwNjliNGEyOWU4Mzc2NmYwMDlkYWE0MmZlMTNhNGE4N2VmYzI2ZDhhZWI4MTg1OGVmYw%3D%3D&amp;amp;v=1&amp;amp;f=sd&quot;,true,&quot;https://v.redd.it/22s7ruht5a9a1/DASH_96.mp4&quot;,&quot;completed&quot;,406}}</td><td>&quot;https://v.redd.it/22s7ruht5a9a…</td><td>&quot;&quot;</td></tr></tbody></table></div>"
      ],
      "text/plain": [
       "shape: (2_573, 10)\n",
       "┌─────────┬────────────┬───────────┬───────────┬───┬───────────┬───────────┬───────────┬───────────┐\n",
       "│ id      ┆ author     ┆ created_u ┆ subreddit ┆ … ┆ media_emb ┆ media     ┆ url       ┆ local_thu │\n",
       "│ ---     ┆ ---        ┆ tc        ┆ ---       ┆   ┆ ed        ┆ ---       ┆ ---       ┆ mbnail_pa │\n",
       "│ str     ┆ str        ┆ ---       ┆ str       ┆   ┆ ---       ┆ struct[3] ┆ str       ┆ th        │\n",
       "│         ┆            ┆ i64       ┆           ┆   ┆ struct[5] ┆           ┆           ┆ ---       │\n",
       "│         ┆            ┆           ┆           ┆   ┆           ┆           ┆           ┆ str       │\n",
       "╞═════════╪════════════╪═══════════╪═══════════╪═══╪═══════════╪═══════════╪═══════════╪═══════════╡\n",
       "│ 6um2bk  ┆ Josh_norma ┆ 150310373 ┆ trueratem ┆ … ┆ {\"&lt;ifr ┆ {{null,\"I ┆ http://im ┆ thumbnail │\n",
       "│         ┆ n05        ┆ 4         ┆ e         ┆   ┆ ame class ┆ mgur: The ┆ gur.com/a ┆ s/6um2bk. │\n",
       "│         ┆            ┆           ┆           ┆   ┆ =\"embedly ┆ most      ┆ /v2xU7    ┆ jpg       │\n",
       "│         ┆            ┆           ┆           ┆   ┆ -em…      ┆ awesom…   ┆           ┆           │\n",
       "│ 6umpik  ┆ PettingXu  ┆ 150311164 ┆ trueratem ┆ … ┆ {\"&lt;ifr ┆ {{null,\"I ┆ https://m ┆ thumbnail │\n",
       "│         ┆            ┆ 6         ┆ e         ┆   ┆ ame class ┆ mgur: The ┆ .imgur.co ┆ s/6umpik. │\n",
       "│         ┆            ┆           ┆           ┆   ┆ =\"embedly ┆ most      ┆ m/a/2loQ6 ┆ jpg       │\n",
       "│         ┆            ┆           ┆           ┆   ┆ -em…      ┆ awesom…   ┆           ┆           │\n",
       "│ 6un283  ┆ Mr-Rushifa ┆ 150311634 ┆ trueratem ┆ … ┆ {\"&lt;ifr ┆ {{null,\"I ┆ https://i ┆ thumbnail │\n",
       "│         ┆            ┆ 2         ┆ e         ┆   ┆ ame class ┆ mgur: The ┆ mgur.com/ ┆ s/6un283. │\n",
       "│         ┆            ┆           ┆           ┆   ┆ =\"embedly ┆ most      ┆ a/D0rJP   ┆ jpg       │\n",
       "│         ┆            ┆           ┆           ┆   ┆ -em…      ┆ awesom…   ┆           ┆           │\n",
       "│ 6un2v8  ┆ mindmonkey ┆ 150311657 ┆ trueratem ┆ … ┆ {\"&lt;ifr ┆ {{null,\"I ┆ https://i ┆ thumbnail │\n",
       "│         ┆ 00         ┆ 2         ┆ e         ┆   ┆ ame class ┆ mgur: The ┆ mgur.com/ ┆ s/6un2v8. │\n",
       "│         ┆            ┆           ┆           ┆   ┆ =\"embedly ┆ most      ┆ a/Ra0M6   ┆ jpg       │\n",
       "│         ┆            ┆           ┆           ┆   ┆ -em…      ┆ awesom…   ┆           ┆           │\n",
       "│ 6uohb4  ┆ will_wolfy ┆ 150314075 ┆ trueratem ┆ … ┆ {\"&lt;ifr ┆ {{null,\"I ┆ https://i ┆ thumbnail │\n",
       "│         ┆            ┆ 3         ┆ e         ┆   ┆ ame class ┆ mgur: The ┆ mgur.com/ ┆ s/6uohb4. │\n",
       "│         ┆            ┆           ┆           ┆   ┆ =\"embedly ┆ most      ┆ a/IY7ek   ┆ jpg       │\n",
       "│         ┆            ┆           ┆           ┆   ┆ -em…      ┆ awesom…   ┆           ┆           │\n",
       "│ …       ┆ …          ┆ …         ┆ …         ┆ … ┆ …         ┆ …         ┆ …         ┆ …         │\n",
       "│ zuls6m  ┆ Anpava     ┆ 167192526 ┆ trueratem ┆ … ┆ {null,nul ┆ {null,nul ┆ https://v ┆           │\n",
       "│         ┆            ┆ 6         ┆ e         ┆   ┆ l,null,nu ┆ l,{\"https ┆ .redd.it/ ┆           │\n",
       "│         ┆            ┆           ┆           ┆   ┆ ll,null}  ┆ ://v.redd ┆ c9q1lwcdl ┆           │\n",
       "│         ┆            ┆           ┆           ┆   ┆           ┆ .it…      ┆ x7a…      ┆           │\n",
       "│ zv249i  ┆ podwithout ┆ 167198846 ┆ trueratem ┆ … ┆ {null,nul ┆ {null,nul ┆ https://v ┆           │\n",
       "│         ┆ apea       ┆ 9         ┆ e         ┆   ┆ l,null,nu ┆ l,{\"https ┆ .redd.it/ ┆           │\n",
       "│         ┆            ┆           ┆           ┆   ┆ ll,null}  ┆ ://v.redd ┆ dvm8orq4c ┆           │\n",
       "│         ┆            ┆           ┆           ┆   ┆           ┆ .it…      ┆ 48a…      ┆           │\n",
       "│ zziswh  ┆ Comfortabl ┆ 167245332 ┆ trueratem ┆ … ┆ {null,nul ┆ {null,nul ┆ https://v ┆           │\n",
       "│         ┆ e_Gear2354 ┆ 9         ┆ e         ┆   ┆ l,null,nu ┆ l,{\"https ┆ .redd.it/ ┆           │\n",
       "│         ┆            ┆           ┆           ┆   ┆ ll,null}  ┆ ://v.redd ┆ alxo4lw7q ┆           │\n",
       "│         ┆            ┆           ┆           ┆   ┆           ┆ .it…      ┆ 69a…      ┆           │\n",
       "│ zzm09y  ┆ Tjbenz     ┆ 167246310 ┆ trueratem ┆ … ┆ {\"&lt;ifr ┆ {{null,nu ┆ https://y ┆ thumbnail │\n",
       "│         ┆            ┆ 5         ┆ e         ┆   ┆ ame width ┆ ll,200,\"& ┆ outu.be/g ┆ s/zzm09y. │\n",
       "│         ┆            ┆           ┆           ┆   ┆ =\"356\"    ┆ lt;iframe ┆ OV8AoGzYP ┆ jpg       │\n",
       "│         ┆            ┆           ┆           ┆   ┆ heigh…    ┆ wi…       ┆ U         ┆           │\n",
       "│ 1000xs9 ┆ Ambitious_ ┆ 167251286 ┆ trueratem ┆ … ┆ {null,nul ┆ {null,nul ┆ https://v ┆           │\n",
       "│         ┆ Rate_2023  ┆ 0         ┆ e         ┆   ┆ l,null,nu ┆ l,{\"https ┆ .redd.it/ ┆           │\n",
       "│         ┆            ┆           ┆           ┆   ┆ ll,null}  ┆ ://v.redd ┆ 22s7ruht5 ┆           │\n",
       "│         ┆            ┆           ┆           ┆   ┆           ┆ .it…      ┆ a9a…      ┆           │\n",
       "└─────────┴────────────┴───────────┴───────────┴───┴───────────┴───────────┴───────────┴───────────┘"
      ]
     },
     "execution_count": 21,
     "metadata": {},
     "output_type": "execute_result"
    }
   ],
   "source": [
    "# Download all thumbnails in df, updating rows with the local path upon download\n",
    "# note that we write every step to parquet to avoid losing data\n",
    "# also we skip rows if file already exists\n",
    "if 'local_thumbnail_path' not in df.columns:\n",
    "    df = df.with_columns(pl.lit(\"\").alias('local_thumbnail_path'))\n",
    "\n",
    "df_view = df.clone()\n",
    "for idx, row in enumerate(df_view.iter_rows(named=True)):\n",
    "    # Extract thumbnail url\n",
    "    try:\n",
    "        thumbnail_url = row['media']['oembed']['thumbnail_url']\n",
    "    except (KeyError, TypeError):\n",
    "        continue\n",
    "    if thumbnail_url == None: continue\n",
    "    \n",
    "    clean_url = remove_url_args(thumbnail_url)\n",
    "    if not is_img_url(clean_url):  continue\n",
    "    \n",
    "    ext = os.path.splitext(clean_url)[1]\n",
    "    local_path = os.path.join(\"thumbnails\", f\"{row['id']}{ext}\")\n",
    "    \n",
    "    if os.path.exists(local_path): continue\n",
    "    \n",
    "    try:\n",
    "        download_thumbnail(clean_url, local_path)\n",
    "        df[idx, 'local_thumbnail_path'] = local_path\n",
    "        df.write_parquet(\"reddit_posts.parquet\")\n",
    "    except:\n",
    "        print(f\"Failed to download {clean_url}\")\n",
    "        continue\n",
    "\n",
    "df"
   ]
  }
 ],
 "metadata": {
  "kernelspec": {
   "display_name": "Python 3 (ipykernel)",
   "language": "python",
   "name": "python3"
  },
  "language_info": {
   "codemirror_mode": {
    "name": "ipython",
    "version": 3
   },
   "file_extension": ".py",
   "mimetype": "text/x-python",
   "name": "python",
   "nbconvert_exporter": "python",
   "pygments_lexer": "ipython3",
   "version": "3.12.4"
  }
 },
 "nbformat": 4,
 "nbformat_minor": 2
}
